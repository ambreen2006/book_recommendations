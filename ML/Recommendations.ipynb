{
 "cells": [
  {
   "cell_type": "code",
   "execution_count": 37,
   "metadata": {},
   "outputs": [],
   "source": [
    "import numpy as np\n",
    "import pandas as pd\n",
    "from itertools import repeat\n",
    "\n",
    "from data_loader import BooksDataLoader"
   ]
  },
  {
   "cell_type": "code",
   "execution_count": 2,
   "metadata": {},
   "outputs": [],
   "source": [
    "books_data_loader = BooksDataLoader()"
   ]
  },
  {
   "cell_type": "code",
   "execution_count": 3,
   "metadata": {},
   "outputs": [],
   "source": [
    "readers_data = books_data_loader.get_readers_data()"
   ]
  },
  {
   "cell_type": "code",
   "execution_count": 4,
   "metadata": {},
   "outputs": [],
   "source": [
    "genre_similarity = books_data_loader.get_genre_similarity_matrix()"
   ]
  },
  {
   "cell_type": "code",
   "execution_count": 5,
   "metadata": {},
   "outputs": [],
   "source": [
    "books_data = books_data_loader.get_books_data()"
   ]
  },
  {
   "cell_type": "code",
   "execution_count": 6,
   "metadata": {},
   "outputs": [],
   "source": [
    "books_meta_data = books_data_loader.get_books_meta_data()"
   ]
  },
  {
   "cell_type": "code",
   "execution_count": 7,
   "metadata": {},
   "outputs": [],
   "source": [
    "selected_user = 5"
   ]
  },
  {
   "cell_type": "code",
   "execution_count": 8,
   "metadata": {},
   "outputs": [],
   "source": [
    "books_reviewed_by_user=set(readers_data[readers_data.user_id == selected_user].book_id.values)"
   ]
  },
  {
   "cell_type": "code",
   "execution_count": 9,
   "metadata": {},
   "outputs": [
    {
     "data": {
      "text/plain": [
       "100"
      ]
     },
     "execution_count": 9,
     "metadata": {},
     "output_type": "execute_result"
    }
   ],
   "source": [
    "len(books_reviewed_by_user)"
   ]
  },
  {
   "cell_type": "code",
   "execution_count": 10,
   "metadata": {},
   "outputs": [],
   "source": [
    "reviewed_books = genre_similarity[genre_similarity.index.isin(books_reviewed_by_user)].index.values"
   ]
  },
  {
   "cell_type": "code",
   "execution_count": 11,
   "metadata": {},
   "outputs": [
    {
     "data": {
      "text/plain": [
       "5"
      ]
     },
     "execution_count": 11,
     "metadata": {},
     "output_type": "execute_result"
    }
   ],
   "source": [
    "len(reviewed_books)"
   ]
  },
  {
   "cell_type": "code",
   "execution_count": 12,
   "metadata": {},
   "outputs": [
    {
     "data": {
      "text/plain": [
       "array([1347, 1339, 3744, 5766, 4380])"
      ]
     },
     "execution_count": 12,
     "metadata": {},
     "output_type": "execute_result"
    }
   ],
   "source": [
    "reviewed_books"
   ]
  },
  {
   "cell_type": "code",
   "execution_count": 31,
   "metadata": {},
   "outputs": [],
   "source": [
    "reviewed_books_sub = books_data.loc[books_data.book_id.isin(reviewed_books), ['book_id','original_title', 'authors', 'average_rating']].set_index('book_id')"
   ]
  },
  {
   "cell_type": "code",
   "execution_count": 41,
   "metadata": {},
   "outputs": [
    {
     "data": {
      "text/html": [
       "<div>\n",
       "<style scoped>\n",
       "    .dataframe tbody tr th:only-of-type {\n",
       "        vertical-align: middle;\n",
       "    }\n",
       "\n",
       "    .dataframe tbody tr th {\n",
       "        vertical-align: top;\n",
       "    }\n",
       "\n",
       "    .dataframe thead th {\n",
       "        text-align: right;\n",
       "    }\n",
       "</style>\n",
       "<table border=\"1\" class=\"dataframe\">\n",
       "  <thead>\n",
       "    <tr style=\"text-align: right;\">\n",
       "      <th></th>\n",
       "      <th>original_title</th>\n",
       "      <th>authors</th>\n",
       "      <th>average_rating</th>\n",
       "    </tr>\n",
       "    <tr>\n",
       "      <th>book_id</th>\n",
       "      <th></th>\n",
       "      <th></th>\n",
       "      <th></th>\n",
       "    </tr>\n",
       "  </thead>\n",
       "  <tbody>\n",
       "    <tr>\n",
       "      <td>1339</td>\n",
       "      <td>The Mist</td>\n",
       "      <td>Stephen King</td>\n",
       "      <td>3.92</td>\n",
       "    </tr>\n",
       "    <tr>\n",
       "      <td>1347</td>\n",
       "      <td>Revival</td>\n",
       "      <td>Stephen King</td>\n",
       "      <td>3.75</td>\n",
       "    </tr>\n",
       "    <tr>\n",
       "      <td>3744</td>\n",
       "      <td>A Drink Before the War</td>\n",
       "      <td>Dennis Lehane</td>\n",
       "      <td>3.96</td>\n",
       "    </tr>\n",
       "    <tr>\n",
       "      <td>4380</td>\n",
       "      <td>Fractured</td>\n",
       "      <td>Karin Slaughter</td>\n",
       "      <td>4.18</td>\n",
       "    </tr>\n",
       "    <tr>\n",
       "      <td>5766</td>\n",
       "      <td>The Given Day</td>\n",
       "      <td>Dennis Lehane</td>\n",
       "      <td>4.03</td>\n",
       "    </tr>\n",
       "  </tbody>\n",
       "</table>\n",
       "</div>"
      ],
      "text/plain": [
       "                 original_title          authors  average_rating\n",
       "book_id                                                         \n",
       "1339                   The Mist     Stephen King            3.92\n",
       "1347                    Revival     Stephen King            3.75\n",
       "3744     A Drink Before the War    Dennis Lehane            3.96\n",
       "4380                  Fractured  Karin Slaughter            4.18\n",
       "5766              The Given Day    Dennis Lehane            4.03"
      ]
     },
     "execution_count": 41,
     "metadata": {},
     "output_type": "execute_result"
    }
   ],
   "source": [
    "reviewed_books_sub"
   ]
  },
  {
   "cell_type": "code",
   "execution_count": 52,
   "metadata": {},
   "outputs": [],
   "source": [
    "pd.set_option('max_colwidth', 200)"
   ]
  },
  {
   "cell_type": "code",
   "execution_count": 53,
   "metadata": {},
   "outputs": [
    {
     "data": {
      "text/html": [
       "<div>\n",
       "<style scoped>\n",
       "    .dataframe tbody tr th:only-of-type {\n",
       "        vertical-align: middle;\n",
       "    }\n",
       "\n",
       "    .dataframe tbody tr th {\n",
       "        vertical-align: top;\n",
       "    }\n",
       "\n",
       "    .dataframe thead th {\n",
       "        text-align: right;\n",
       "    }\n",
       "</style>\n",
       "<table border=\"1\" class=\"dataframe\">\n",
       "  <thead>\n",
       "    <tr style=\"text-align: right;\">\n",
       "      <th></th>\n",
       "      <th>genre</th>\n",
       "      <th>original_title</th>\n",
       "      <th>authors</th>\n",
       "      <th>average_rating</th>\n",
       "    </tr>\n",
       "    <tr>\n",
       "      <th>book_id</th>\n",
       "      <th></th>\n",
       "      <th></th>\n",
       "      <th></th>\n",
       "      <th></th>\n",
       "    </tr>\n",
       "  </thead>\n",
       "  <tbody>\n",
       "    <tr>\n",
       "      <td>1347</td>\n",
       "      <td>Fiction / Horror Fiction / Literary Fiction / Thrillers / Suspense</td>\n",
       "      <td>Revival</td>\n",
       "      <td>Stephen King</td>\n",
       "      <td>3.75</td>\n",
       "    </tr>\n",
       "    <tr>\n",
       "      <td>1339</td>\n",
       "      <td>Fiction / Horror Fiction / Thrillers / Suspense</td>\n",
       "      <td>The Mist</td>\n",
       "      <td>Stephen King</td>\n",
       "      <td>3.92</td>\n",
       "    </tr>\n",
       "    <tr>\n",
       "      <td>3744</td>\n",
       "      <td>Fiction / Crime Fiction / Mystery &amp; Detective / Hard-Boiled Fiction / Mystery &amp; Detective / Private Investigators</td>\n",
       "      <td>A Drink Before the War</td>\n",
       "      <td>Dennis Lehane</td>\n",
       "      <td>3.96</td>\n",
       "    </tr>\n",
       "    <tr>\n",
       "      <td>5766</td>\n",
       "      <td>Fiction / Historical / General Fiction / Literary Fiction / Thrillers / Suspense</td>\n",
       "      <td>The Given Day</td>\n",
       "      <td>Dennis Lehane</td>\n",
       "      <td>4.03</td>\n",
       "    </tr>\n",
       "    <tr>\n",
       "      <td>4380</td>\n",
       "      <td>Fiction / Mystery &amp; Detective / Police Procedural Fiction / Thrillers / General Fiction / Thrillers / Suspense</td>\n",
       "      <td>Fractured</td>\n",
       "      <td>Karin Slaughter</td>\n",
       "      <td>4.18</td>\n",
       "    </tr>\n",
       "  </tbody>\n",
       "</table>\n",
       "</div>"
      ],
      "text/plain": [
       "                                                                                                                      genre          original_title          authors  average_rating\n",
       "book_id                                                                                                                                                                             \n",
       "1347                                                     Fiction / Horror Fiction / Literary Fiction / Thrillers / Suspense                 Revival     Stephen King            3.75\n",
       "1339                                                                        Fiction / Horror Fiction / Thrillers / Suspense                The Mist     Stephen King            3.92\n",
       "3744     Fiction / Crime Fiction / Mystery & Detective / Hard-Boiled Fiction / Mystery & Detective / Private Investigators   A Drink Before the War    Dennis Lehane            3.96\n",
       "5766                                      Fiction / Historical / General Fiction / Literary Fiction / Thrillers / Suspense            The Given Day    Dennis Lehane            4.03\n",
       "4380        Fiction / Mystery & Detective / Police Procedural Fiction / Thrillers / General Fiction / Thrillers / Suspense                Fractured  Karin Slaughter            4.18"
      ]
     },
     "metadata": {},
     "output_type": "display_data"
    }
   ],
   "source": [
    "display(books_meta_data.loc[books_meta_data.book_id.isin(reviewed_books), ['book_id', 'genre']].set_index('book_id').join(reviewed_books_sub))"
   ]
  },
  {
   "cell_type": "code",
   "execution_count": 18,
   "metadata": {},
   "outputs": [
    {
     "data": {
      "text/plain": [
       "book_id\n",
       "54    0.235702\n",
       "Name: 1553, dtype: float64"
      ]
     },
     "execution_count": 18,
     "metadata": {},
     "output_type": "execute_result"
    }
   ],
   "source": [
    "genre_similarity[genre_similarity.index == 54]['1553']"
   ]
  },
  {
   "cell_type": "code",
   "execution_count": 19,
   "metadata": {},
   "outputs": [],
   "source": [
    "from functools import partial\n",
    "\n",
    "recommended_books = set()\n",
    "\n",
    "def filter_book(book, col):\n",
    "    val = genre_similarity.loc[genre_similarity.index == int(book), col].values[0]\n",
    "    if val >= 0.5:\n",
    "        return True\n",
    "    else:\n",
    "        return False\n",
    "\n",
    "for book in reviewed_books:\n",
    "\n",
    "    similar_books = set(filter(partial(filter_book, book), genre_similarity.columns.values))\n",
    "    recommended_books.update(similar_books)\n",
    "\n",
    "recommended_books = recommended_books - set(reviewed_books)"
   ]
  },
  {
   "cell_type": "code",
   "execution_count": 57,
   "metadata": {},
   "outputs": [],
   "source": [
    "recommended_books_sub = books_data.loc[books_data.book_id.isin(recommended_books), ['book_id', 'original_title', 'average_rating', 'authors']].nlargest(10, 'average_rating').set_index('book_id')"
   ]
  },
  {
   "cell_type": "code",
   "execution_count": 60,
   "metadata": {},
   "outputs": [
    {
     "data": {
      "text/html": [
       "<div>\n",
       "<style scoped>\n",
       "    .dataframe tbody tr th:only-of-type {\n",
       "        vertical-align: middle;\n",
       "    }\n",
       "\n",
       "    .dataframe tbody tr th {\n",
       "        vertical-align: top;\n",
       "    }\n",
       "\n",
       "    .dataframe thead th {\n",
       "        text-align: right;\n",
       "    }\n",
       "</style>\n",
       "<table border=\"1\" class=\"dataframe\">\n",
       "  <thead>\n",
       "    <tr style=\"text-align: right;\">\n",
       "      <th></th>\n",
       "      <th>original_title</th>\n",
       "      <th>average_rating</th>\n",
       "      <th>authors</th>\n",
       "    </tr>\n",
       "    <tr>\n",
       "      <th>book_id</th>\n",
       "      <th></th>\n",
       "      <th></th>\n",
       "      <th></th>\n",
       "    </tr>\n",
       "  </thead>\n",
       "  <tbody>\n",
       "    <tr>\n",
       "      <td>1654</td>\n",
       "      <td>Cold Days</td>\n",
       "      <td>4.51</td>\n",
       "      <td>Jim Butcher</td>\n",
       "    </tr>\n",
       "    <tr>\n",
       "      <td>1630</td>\n",
       "      <td>Turn Coat</td>\n",
       "      <td>4.45</td>\n",
       "      <td>Jim Butcher</td>\n",
       "    </tr>\n",
       "    <tr>\n",
       "      <td>1450</td>\n",
       "      <td>Small Favor</td>\n",
       "      <td>4.43</td>\n",
       "      <td>Jim Butcher</td>\n",
       "    </tr>\n",
       "    <tr>\n",
       "      <td>1394</td>\n",
       "      <td>White Night</td>\n",
       "      <td>4.41</td>\n",
       "      <td>Jim Butcher</td>\n",
       "    </tr>\n",
       "    <tr>\n",
       "      <td>6585</td>\n",
       "      <td>Survivor in Death (In Death, #20)</td>\n",
       "      <td>4.38</td>\n",
       "      <td>J.D. Robb</td>\n",
       "    </tr>\n",
       "    <tr>\n",
       "      <td>2830</td>\n",
       "      <td>Consent to Kill</td>\n",
       "      <td>4.36</td>\n",
       "      <td>Vince Flynn</td>\n",
       "    </tr>\n",
       "    <tr>\n",
       "      <td>6763</td>\n",
       "      <td>Innocent in Death (In Death, #24)</td>\n",
       "      <td>4.36</td>\n",
       "      <td>J.D. Robb</td>\n",
       "    </tr>\n",
       "    <tr>\n",
       "      <td>3214</td>\n",
       "      <td>Pursuit of Honor</td>\n",
       "      <td>4.35</td>\n",
       "      <td>Vince Flynn</td>\n",
       "    </tr>\n",
       "    <tr>\n",
       "      <td>3786</td>\n",
       "      <td>Protect and Defend</td>\n",
       "      <td>4.34</td>\n",
       "      <td>Vince Flynn</td>\n",
       "    </tr>\n",
       "    <tr>\n",
       "      <td>4056</td>\n",
       "      <td>The Last Man</td>\n",
       "      <td>4.34</td>\n",
       "      <td>Vince Flynn</td>\n",
       "    </tr>\n",
       "  </tbody>\n",
       "</table>\n",
       "</div>"
      ],
      "text/plain": [
       "                            original_title  average_rating      authors\n",
       "book_id                                                                \n",
       "1654                             Cold Days            4.51  Jim Butcher\n",
       "1630                             Turn Coat            4.45  Jim Butcher\n",
       "1450                           Small Favor            4.43  Jim Butcher\n",
       "1394                           White Night            4.41  Jim Butcher\n",
       "6585     Survivor in Death (In Death, #20)            4.38    J.D. Robb\n",
       "2830                       Consent to Kill            4.36  Vince Flynn\n",
       "6763     Innocent in Death (In Death, #24)            4.36    J.D. Robb\n",
       "3214                      Pursuit of Honor            4.35  Vince Flynn\n",
       "3786                    Protect and Defend            4.34  Vince Flynn\n",
       "4056                          The Last Man            4.34  Vince Flynn"
      ]
     },
     "execution_count": 60,
     "metadata": {},
     "output_type": "execute_result"
    }
   ],
   "source": [
    "recommended_books_sub"
   ]
  },
  {
   "cell_type": "code",
   "execution_count": 62,
   "metadata": {},
   "outputs": [
    {
     "data": {
      "text/html": [
       "<div>\n",
       "<style scoped>\n",
       "    .dataframe tbody tr th:only-of-type {\n",
       "        vertical-align: middle;\n",
       "    }\n",
       "\n",
       "    .dataframe tbody tr th {\n",
       "        vertical-align: top;\n",
       "    }\n",
       "\n",
       "    .dataframe thead th {\n",
       "        text-align: right;\n",
       "    }\n",
       "</style>\n",
       "<table border=\"1\" class=\"dataframe\">\n",
       "  <thead>\n",
       "    <tr style=\"text-align: right;\">\n",
       "      <th></th>\n",
       "      <th>genre</th>\n",
       "      <th>original_title</th>\n",
       "      <th>average_rating</th>\n",
       "      <th>authors</th>\n",
       "    </tr>\n",
       "    <tr>\n",
       "      <th>book_id</th>\n",
       "      <th></th>\n",
       "      <th></th>\n",
       "      <th></th>\n",
       "      <th></th>\n",
       "    </tr>\n",
       "  </thead>\n",
       "  <tbody>\n",
       "    <tr>\n",
       "      <td>6585</td>\n",
       "      <td>Fiction / Mystery &amp; Detective / Police Procedural Fiction / Mystery &amp; Detective / Women Sleuths Fiction / Romance / Suspense</td>\n",
       "      <td>Survivor in Death (In Death, #20)</td>\n",
       "      <td>4.38</td>\n",
       "      <td>J.D. Robb</td>\n",
       "    </tr>\n",
       "    <tr>\n",
       "      <td>6763</td>\n",
       "      <td>Fiction / Mystery &amp; Detective / Police Procedural Fiction / Mystery &amp; Detective / Women Sleuths Fiction / Romance / Suspense</td>\n",
       "      <td>Innocent in Death (In Death, #24)</td>\n",
       "      <td>4.36</td>\n",
       "      <td>J.D. Robb</td>\n",
       "    </tr>\n",
       "    <tr>\n",
       "      <td>1394</td>\n",
       "      <td>Fiction / Fantasy / Paranormal Fiction / Fantasy / Urban Fiction / Mystery &amp; Detective / Private Investigators</td>\n",
       "      <td>White Night</td>\n",
       "      <td>4.41</td>\n",
       "      <td>Jim Butcher</td>\n",
       "    </tr>\n",
       "    <tr>\n",
       "      <td>1450</td>\n",
       "      <td>Fiction / Fantasy / Paranormal Fiction / Fantasy / Urban Fiction / Mystery &amp; Detective / Private Investigators</td>\n",
       "      <td>Small Favor</td>\n",
       "      <td>4.43</td>\n",
       "      <td>Jim Butcher</td>\n",
       "    </tr>\n",
       "    <tr>\n",
       "      <td>1630</td>\n",
       "      <td>Fiction / Fantasy / Paranormal Fiction / Fantasy / Urban Fiction / Mystery &amp; Detective / Private Investigators</td>\n",
       "      <td>Turn Coat</td>\n",
       "      <td>4.45</td>\n",
       "      <td>Jim Butcher</td>\n",
       "    </tr>\n",
       "    <tr>\n",
       "      <td>1654</td>\n",
       "      <td>Fiction / Fantasy / Paranormal Fiction / Fantasy / Urban Fiction / Mystery &amp; Detective / Private Investigators</td>\n",
       "      <td>Cold Days</td>\n",
       "      <td>4.51</td>\n",
       "      <td>Jim Butcher</td>\n",
       "    </tr>\n",
       "    <tr>\n",
       "      <td>2830</td>\n",
       "      <td>Fiction / Thrillers / Espionage Fiction / Thrillers / Political Fiction / Thrillers / Suspense</td>\n",
       "      <td>Consent to Kill</td>\n",
       "      <td>4.36</td>\n",
       "      <td>Vince Flynn</td>\n",
       "    </tr>\n",
       "    <tr>\n",
       "      <td>3214</td>\n",
       "      <td>Fiction / Thrillers / Espionage Fiction / Thrillers / Political Fiction / Thrillers / Suspense</td>\n",
       "      <td>Pursuit of Honor</td>\n",
       "      <td>4.35</td>\n",
       "      <td>Vince Flynn</td>\n",
       "    </tr>\n",
       "    <tr>\n",
       "      <td>3786</td>\n",
       "      <td>Fiction / Thrillers / Espionage Fiction / Thrillers / General Fiction / Thrillers / Political Fiction / Thrillers / Suspense</td>\n",
       "      <td>Protect and Defend</td>\n",
       "      <td>4.34</td>\n",
       "      <td>Vince Flynn</td>\n",
       "    </tr>\n",
       "    <tr>\n",
       "      <td>4056</td>\n",
       "      <td>Fiction / General Fiction / Political Fiction / Thrillers / General</td>\n",
       "      <td>The Last Man</td>\n",
       "      <td>4.34</td>\n",
       "      <td>Vince Flynn</td>\n",
       "    </tr>\n",
       "  </tbody>\n",
       "</table>\n",
       "</div>"
      ],
      "text/plain": [
       "                                                                                                                                 genre                     original_title  average_rating      authors\n",
       "book_id                                                                                                                                                                                               \n",
       "6585     Fiction / Mystery & Detective / Police Procedural Fiction / Mystery & Detective / Women Sleuths Fiction / Romance / Suspense   Survivor in Death (In Death, #20)            4.38    J.D. Robb\n",
       "6763     Fiction / Mystery & Detective / Police Procedural Fiction / Mystery & Detective / Women Sleuths Fiction / Romance / Suspense   Innocent in Death (In Death, #24)            4.36    J.D. Robb\n",
       "1394                   Fiction / Fantasy / Paranormal Fiction / Fantasy / Urban Fiction / Mystery & Detective / Private Investigators                         White Night            4.41  Jim Butcher\n",
       "1450                   Fiction / Fantasy / Paranormal Fiction / Fantasy / Urban Fiction / Mystery & Detective / Private Investigators                         Small Favor            4.43  Jim Butcher\n",
       "1630                   Fiction / Fantasy / Paranormal Fiction / Fantasy / Urban Fiction / Mystery & Detective / Private Investigators                           Turn Coat            4.45  Jim Butcher\n",
       "1654                   Fiction / Fantasy / Paranormal Fiction / Fantasy / Urban Fiction / Mystery & Detective / Private Investigators                           Cold Days            4.51  Jim Butcher\n",
       "2830                                   Fiction / Thrillers / Espionage Fiction / Thrillers / Political Fiction / Thrillers / Suspense                     Consent to Kill            4.36  Vince Flynn\n",
       "3214                                   Fiction / Thrillers / Espionage Fiction / Thrillers / Political Fiction / Thrillers / Suspense                    Pursuit of Honor            4.35  Vince Flynn\n",
       "3786     Fiction / Thrillers / Espionage Fiction / Thrillers / General Fiction / Thrillers / Political Fiction / Thrillers / Suspense                  Protect and Defend            4.34  Vince Flynn\n",
       "4056                                                              Fiction / General Fiction / Political Fiction / Thrillers / General                        The Last Man            4.34  Vince Flynn"
      ]
     },
     "execution_count": 62,
     "metadata": {},
     "output_type": "execute_result"
    }
   ],
   "source": [
    "books_meta_data.loc[books_meta_data.book_id.isin(recommended_books_sub.index.values), ['genre', 'book_id']].set_index('book_id').join(recommended_books_sub)"
   ]
  },
  {
   "cell_type": "code",
   "execution_count": null,
   "metadata": {},
   "outputs": [],
   "source": []
  }
 ],
 "metadata": {
  "kernelspec": {
   "display_name": "Python 3",
   "language": "python",
   "name": "python3"
  },
  "language_info": {
   "codemirror_mode": {
    "name": "ipython",
    "version": 3
   },
   "file_extension": ".py",
   "mimetype": "text/x-python",
   "name": "python",
   "nbconvert_exporter": "python",
   "pygments_lexer": "ipython3",
   "version": "3.7.4"
  }
 },
 "nbformat": 4,
 "nbformat_minor": 2
}
