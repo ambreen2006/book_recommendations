{
 "cells": [
  {
   "cell_type": "code",
   "execution_count": 124,
   "metadata": {},
   "outputs": [],
   "source": [
    "import numpy as np\n",
    "import pandas as pd\n",
    "\n",
    "from data_loader import BooksDataLoader\n",
    "from book_recommender import BookRecommender\n",
    "from book_recommender import partition\n",
    "from book_recommender import hit_rate"
   ]
  },
  {
   "cell_type": "code",
   "execution_count": 125,
   "metadata": {},
   "outputs": [],
   "source": [
    "books_data_loader = BooksDataLoader()\n",
    "\n",
    "readers_data = books_data_loader.get_readers_data()\n",
    "genre_similarity = books_data_loader.get_genre_similarity_matrix()\n",
    "books_data = books_data_loader.get_books_data()\n",
    "books_meta_data = books_data_loader.get_books_meta_data()"
   ]
  },
  {
   "cell_type": "code",
   "execution_count": 126,
   "metadata": {},
   "outputs": [
    {
     "data": {
      "text/html": [
       "<div>\n",
       "<style scoped>\n",
       "    .dataframe tbody tr th:only-of-type {\n",
       "        vertical-align: middle;\n",
       "    }\n",
       "\n",
       "    .dataframe tbody tr th {\n",
       "        vertical-align: top;\n",
       "    }\n",
       "\n",
       "    .dataframe thead th {\n",
       "        text-align: right;\n",
       "    }\n",
       "</style>\n",
       "<table border=\"1\" class=\"dataframe\">\n",
       "  <thead>\n",
       "    <tr style=\"text-align: right;\">\n",
       "      <th></th>\n",
       "      <th>user_id</th>\n",
       "      <th>book_id</th>\n",
       "      <th>rating</th>\n",
       "    </tr>\n",
       "  </thead>\n",
       "  <tbody>\n",
       "    <tr>\n",
       "      <td>0</td>\n",
       "      <td>1</td>\n",
       "      <td>258</td>\n",
       "      <td>5</td>\n",
       "    </tr>\n",
       "    <tr>\n",
       "      <td>1</td>\n",
       "      <td>2</td>\n",
       "      <td>4081</td>\n",
       "      <td>4</td>\n",
       "    </tr>\n",
       "    <tr>\n",
       "      <td>2</td>\n",
       "      <td>2</td>\n",
       "      <td>260</td>\n",
       "      <td>5</td>\n",
       "    </tr>\n",
       "    <tr>\n",
       "      <td>3</td>\n",
       "      <td>2</td>\n",
       "      <td>9296</td>\n",
       "      <td>5</td>\n",
       "    </tr>\n",
       "    <tr>\n",
       "      <td>4</td>\n",
       "      <td>2</td>\n",
       "      <td>2318</td>\n",
       "      <td>3</td>\n",
       "    </tr>\n",
       "  </tbody>\n",
       "</table>\n",
       "</div>"
      ],
      "text/plain": [
       "   user_id  book_id  rating\n",
       "0        1      258       5\n",
       "1        2     4081       4\n",
       "2        2      260       5\n",
       "3        2     9296       5\n",
       "4        2     2318       3"
      ]
     },
     "execution_count": 126,
     "metadata": {},
     "output_type": "execute_result"
    }
   ],
   "source": [
    "readers_data.head()"
   ]
  },
  {
   "cell_type": "code",
   "execution_count": 127,
   "metadata": {},
   "outputs": [],
   "source": [
    "books_meta_data = books_meta_data.set_index('book_id').join(books_data.set_index('book_id'))"
   ]
  },
  {
   "cell_type": "code",
   "execution_count": 146,
   "metadata": {},
   "outputs": [],
   "source": [
    "selected_user_list = readers_data.user_id.unique()[:200].tolist()"
   ]
  },
  {
   "cell_type": "code",
   "execution_count": 147,
   "metadata": {},
   "outputs": [],
   "source": [
    "books_available = set(genre_similarity.index)"
   ]
  },
  {
   "cell_type": "code",
   "execution_count": 152,
   "metadata": {},
   "outputs": [],
   "source": [
    "books_reviewed_by_users = []\n",
    "rating_threshold = 3\n",
    "\n",
    "for user in selected_user_list:\n",
    "\n",
    "    reviewed_all =  set(readers_data[readers_data.user_id == user].book_id.values)\n",
    "    reviewed = reviewed_all.intersection(books_available)\n",
    "\n",
    "    # filter out \n",
    "    reviewed = set(book_id for book_id in reviewed\n",
    "                    if (readers_data[(readers_data.user_id == user) \n",
    "                                     & (readers_data.book_id == book_id)].rating >= rating_threshold).any())\n",
    "\n",
    "    if len(reviewed) > 1:\n",
    "        books_reviewed_by_users.append([user, reviewed])"
   ]
  },
  {
   "cell_type": "code",
   "execution_count": 153,
   "metadata": {},
   "outputs": [],
   "source": [
    "books_reviewed_by_users_df = pd.DataFrame(books_reviewed_by_users, columns=['User', 'Books_Reviewed'])"
   ]
  },
  {
   "cell_type": "code",
   "execution_count": 155,
   "metadata": {},
   "outputs": [
    {
     "data": {
      "text/html": [
       "<div>\n",
       "<style scoped>\n",
       "    .dataframe tbody tr th:only-of-type {\n",
       "        vertical-align: middle;\n",
       "    }\n",
       "\n",
       "    .dataframe tbody tr th {\n",
       "        vertical-align: top;\n",
       "    }\n",
       "\n",
       "    .dataframe thead th {\n",
       "        text-align: right;\n",
       "    }\n",
       "</style>\n",
       "<table border=\"1\" class=\"dataframe\">\n",
       "  <thead>\n",
       "    <tr style=\"text-align: right;\">\n",
       "      <th></th>\n",
       "      <th>User</th>\n",
       "      <th>Books_Reviewed</th>\n",
       "    </tr>\n",
       "  </thead>\n",
       "  <tbody>\n",
       "    <tr>\n",
       "      <td>0</td>\n",
       "      <td>1</td>\n",
       "      <td>{1796, 6665, 3638, 54, 1176}</td>\n",
       "    </tr>\n",
       "    <tr>\n",
       "      <td>1</td>\n",
       "      <td>2</td>\n",
       "      <td>{193, 8034, 264, 3305, 211, 54}</td>\n",
       "    </tr>\n",
       "    <tr>\n",
       "      <td>2</td>\n",
       "      <td>4</td>\n",
       "      <td>{7, 264, 492, 401, 54, 344, 1210, 575}</td>\n",
       "    </tr>\n",
       "    <tr>\n",
       "      <td>3</td>\n",
       "      <td>6</td>\n",
       "      <td>{2661, 2279, 4079, 9295, 2321, 374, 247, 1976, 3933}</td>\n",
       "    </tr>\n",
       "    <tr>\n",
       "      <td>4</td>\n",
       "      <td>8</td>\n",
       "      <td>{264, 2781, 54}</td>\n",
       "    </tr>\n",
       "  </tbody>\n",
       "</table>\n",
       "</div>"
      ],
      "text/plain": [
       "   User                                        Books_Reviewed\n",
       "0     1                          {1796, 6665, 3638, 54, 1176}\n",
       "1     2                       {193, 8034, 264, 3305, 211, 54}\n",
       "2     4                {7, 264, 492, 401, 54, 344, 1210, 575}\n",
       "3     6  {2661, 2279, 4079, 9295, 2321, 374, 247, 1976, 3933}\n",
       "4     8                                       {264, 2781, 54}"
      ]
     },
     "execution_count": 155,
     "metadata": {},
     "output_type": "execute_result"
    }
   ],
   "source": [
    "books_reviewed_by_users_df.head()"
   ]
  },
  {
   "cell_type": "code",
   "execution_count": 156,
   "metadata": {},
   "outputs": [
    {
     "data": {
      "text/plain": [
       "{3, 52, 310, 344, 795, 1042, 1381, 1645, 1993, 2661, 7260}"
      ]
     },
     "execution_count": 156,
     "metadata": {},
     "output_type": "execute_result"
    }
   ],
   "source": [
    "selected_user_index = 7\n",
    "reviewed_books = books_reviewed_by_users_df.iloc[selected_user_index, 1]\n",
    "reviewed_books"
   ]
  },
  {
   "cell_type": "code",
   "execution_count": 9,
   "metadata": {},
   "outputs": [
    {
     "data": {
      "text/plain": [
       "15"
      ]
     },
     "execution_count": 9,
     "metadata": {},
     "output_type": "execute_result"
    }
   ],
   "source": [
    "selected_user_id = books_reviewed_by_users_df.iloc[selected_user_index, 0]\n",
    "selected_user_id"
   ]
  },
  {
   "cell_type": "code",
   "execution_count": 10,
   "metadata": {},
   "outputs": [
    {
     "data": {
      "text/plain": [
       "(165, 2)"
      ]
     },
     "execution_count": 10,
     "metadata": {},
     "output_type": "execute_result"
    }
   ],
   "source": [
    "books_reviewed_by_users_df.shape"
   ]
  },
  {
   "cell_type": "code",
   "execution_count": 11,
   "metadata": {},
   "outputs": [],
   "source": [
    "reviewed_books_sub = books_data.loc[books_data.book_id.isin(reviewed_books), \n",
    "                                    ['book_id','original_title', 'authors', 'average_rating']]\n",
    "reviewed_books_sub = reviewed_books_sub.set_index('book_id')"
   ]
  },
  {
   "cell_type": "code",
   "execution_count": 12,
   "metadata": {},
   "outputs": [
    {
     "data": {
      "text/html": [
       "<div>\n",
       "<style scoped>\n",
       "    .dataframe tbody tr th:only-of-type {\n",
       "        vertical-align: middle;\n",
       "    }\n",
       "\n",
       "    .dataframe tbody tr th {\n",
       "        vertical-align: top;\n",
       "    }\n",
       "\n",
       "    .dataframe thead th {\n",
       "        text-align: right;\n",
       "    }\n",
       "</style>\n",
       "<table border=\"1\" class=\"dataframe\">\n",
       "  <thead>\n",
       "    <tr style=\"text-align: right;\">\n",
       "      <th></th>\n",
       "      <th>original_title</th>\n",
       "      <th>authors</th>\n",
       "      <th>average_rating</th>\n",
       "    </tr>\n",
       "    <tr>\n",
       "      <th>book_id</th>\n",
       "      <th></th>\n",
       "      <th></th>\n",
       "      <th></th>\n",
       "    </tr>\n",
       "  </thead>\n",
       "  <tbody>\n",
       "    <tr>\n",
       "      <td>3</td>\n",
       "      <td>Twilight</td>\n",
       "      <td>Stephenie Meyer</td>\n",
       "      <td>3.57</td>\n",
       "    </tr>\n",
       "    <tr>\n",
       "      <td>52</td>\n",
       "      <td>Eclipse</td>\n",
       "      <td>Stephenie Meyer</td>\n",
       "      <td>3.69</td>\n",
       "    </tr>\n",
       "    <tr>\n",
       "      <td>310</td>\n",
       "      <td>Good in Bed</td>\n",
       "      <td>Jennifer Weiner</td>\n",
       "      <td>3.70</td>\n",
       "    </tr>\n",
       "    <tr>\n",
       "      <td>344</td>\n",
       "      <td>Naked</td>\n",
       "      <td>David Sedaris</td>\n",
       "      <td>4.08</td>\n",
       "    </tr>\n",
       "    <tr>\n",
       "      <td>795</td>\n",
       "      <td>About a Boy</td>\n",
       "      <td>Nick Hornby</td>\n",
       "      <td>3.79</td>\n",
       "    </tr>\n",
       "    <tr>\n",
       "      <td>1042</td>\n",
       "      <td>Dirk Gently's Holistic Detective Agency</td>\n",
       "      <td>Douglas Adams</td>\n",
       "      <td>3.97</td>\n",
       "    </tr>\n",
       "    <tr>\n",
       "      <td>1381</td>\n",
       "      <td>The Eyre Affair</td>\n",
       "      <td>Jasper Fforde</td>\n",
       "      <td>3.92</td>\n",
       "    </tr>\n",
       "    <tr>\n",
       "      <td>1645</td>\n",
       "      <td>Rant: An Oral Biography of Buster Casey</td>\n",
       "      <td>Chuck Palahniuk</td>\n",
       "      <td>3.82</td>\n",
       "    </tr>\n",
       "    <tr>\n",
       "      <td>1993</td>\n",
       "      <td>The Vampire Armand</td>\n",
       "      <td>Anne Rice</td>\n",
       "      <td>3.75</td>\n",
       "    </tr>\n",
       "    <tr>\n",
       "      <td>2661</td>\n",
       "      <td>Bonk: The Curious Coupling of Science and Sex</td>\n",
       "      <td>Mary Roach</td>\n",
       "      <td>3.83</td>\n",
       "    </tr>\n",
       "    <tr>\n",
       "      <td>7260</td>\n",
       "      <td>The Feast of All Saints</td>\n",
       "      <td>Anne Rice</td>\n",
       "      <td>3.83</td>\n",
       "    </tr>\n",
       "  </tbody>\n",
       "</table>\n",
       "</div>"
      ],
      "text/plain": [
       "                                        original_title          authors  \\\n",
       "book_id                                                                   \n",
       "3                                             Twilight  Stephenie Meyer   \n",
       "52                                             Eclipse  Stephenie Meyer   \n",
       "310                                        Good in Bed  Jennifer Weiner   \n",
       "344                                              Naked    David Sedaris   \n",
       "795                                        About a Boy      Nick Hornby   \n",
       "1042           Dirk Gently's Holistic Detective Agency    Douglas Adams   \n",
       "1381                                   The Eyre Affair    Jasper Fforde   \n",
       "1645           Rant: An Oral Biography of Buster Casey  Chuck Palahniuk   \n",
       "1993                                The Vampire Armand        Anne Rice   \n",
       "2661     Bonk: The Curious Coupling of Science and Sex       Mary Roach   \n",
       "7260                           The Feast of All Saints        Anne Rice   \n",
       "\n",
       "         average_rating  \n",
       "book_id                  \n",
       "3                  3.57  \n",
       "52                 3.69  \n",
       "310                3.70  \n",
       "344                4.08  \n",
       "795                3.79  \n",
       "1042               3.97  \n",
       "1381               3.92  \n",
       "1645               3.82  \n",
       "1993               3.75  \n",
       "2661               3.83  \n",
       "7260               3.83  "
      ]
     },
     "execution_count": 12,
     "metadata": {},
     "output_type": "execute_result"
    }
   ],
   "source": [
    "reviewed_books_sub"
   ]
  },
  {
   "cell_type": "code",
   "execution_count": 13,
   "metadata": {},
   "outputs": [],
   "source": [
    "pd.set_option('max_colwidth', 200)"
   ]
  },
  {
   "cell_type": "code",
   "execution_count": 14,
   "metadata": {},
   "outputs": [
    {
     "data": {
      "text/html": [
       "<div>\n",
       "<style scoped>\n",
       "    .dataframe tbody tr th:only-of-type {\n",
       "        vertical-align: middle;\n",
       "    }\n",
       "\n",
       "    .dataframe tbody tr th {\n",
       "        vertical-align: top;\n",
       "    }\n",
       "\n",
       "    .dataframe thead th {\n",
       "        text-align: right;\n",
       "    }\n",
       "</style>\n",
       "<table border=\"1\" class=\"dataframe\">\n",
       "  <thead>\n",
       "    <tr style=\"text-align: right;\">\n",
       "      <th></th>\n",
       "      <th>genre</th>\n",
       "      <th>original_title</th>\n",
       "      <th>authors</th>\n",
       "      <th>average_rating</th>\n",
       "    </tr>\n",
       "    <tr>\n",
       "      <th>book_id</th>\n",
       "      <th></th>\n",
       "      <th></th>\n",
       "      <th></th>\n",
       "      <th></th>\n",
       "    </tr>\n",
       "  </thead>\n",
       "  <tbody>\n",
       "    <tr>\n",
       "      <td>1993</td>\n",
       "      <td>Fiction / Fantasy / Paranormal Fiction / Horror Fiction / Thrillers / Supernatural</td>\n",
       "      <td>The Vampire Armand</td>\n",
       "      <td>Anne Rice</td>\n",
       "      <td>3.75</td>\n",
       "    </tr>\n",
       "    <tr>\n",
       "      <td>7260</td>\n",
       "      <td>Fiction / Erotica / General Fiction / Romance / General</td>\n",
       "      <td>The Feast of All Saints</td>\n",
       "      <td>Anne Rice</td>\n",
       "      <td>3.83</td>\n",
       "    </tr>\n",
       "    <tr>\n",
       "      <td>344</td>\n",
       "      <td>Humor / Form / Essays</td>\n",
       "      <td>Naked</td>\n",
       "      <td>David Sedaris</td>\n",
       "      <td>4.08</td>\n",
       "    </tr>\n",
       "    <tr>\n",
       "      <td>1042</td>\n",
       "      <td>Fiction / Media Tie-In Fiction / Mystery &amp; Detective / Private Investigators Fiction / Science Fiction / Action &amp; Adventure</td>\n",
       "      <td>Dirk Gently's Holistic Detective Agency</td>\n",
       "      <td>Douglas Adams</td>\n",
       "      <td>3.97</td>\n",
       "    </tr>\n",
       "    <tr>\n",
       "      <td>310</td>\n",
       "      <td>Fiction / Family Life / General Fiction / Literary Fiction / Women</td>\n",
       "      <td>Good in Bed</td>\n",
       "      <td>Jennifer Weiner</td>\n",
       "      <td>3.70</td>\n",
       "    </tr>\n",
       "    <tr>\n",
       "      <td>795</td>\n",
       "      <td>Fiction / Coming of Age Fiction / Humorous / General Fiction / Literary</td>\n",
       "      <td>About a Boy</td>\n",
       "      <td>Nick Hornby</td>\n",
       "      <td>3.79</td>\n",
       "    </tr>\n",
       "    <tr>\n",
       "      <td>3</td>\n",
       "      <td>Young Adult Fiction / Fantasy / Contemporary Young Adult Fiction / Paranormal, Occult &amp; Supernatural Young Adult Fiction / Romance / Paranormal Young Adult Fiction / Social Themes / Dating &amp; Sex Y...</td>\n",
       "      <td>Twilight</td>\n",
       "      <td>Stephenie Meyer</td>\n",
       "      <td>3.57</td>\n",
       "    </tr>\n",
       "    <tr>\n",
       "      <td>52</td>\n",
       "      <td>Young Adult Fiction / Fantasy / Contemporary Young Adult Fiction / Paranormal, Occult &amp; Supernatural Young Adult Fiction / Romance / Paranormal Young Adult Fiction / Social Themes / Dating &amp; Sex Y...</td>\n",
       "      <td>Eclipse</td>\n",
       "      <td>Stephenie Meyer</td>\n",
       "      <td>3.69</td>\n",
       "    </tr>\n",
       "    <tr>\n",
       "      <td>1645</td>\n",
       "      <td>Fiction / Literary Fiction / Satire Fiction / Thrillers / General</td>\n",
       "      <td>Rant: An Oral Biography of Buster Casey</td>\n",
       "      <td>Chuck Palahniuk</td>\n",
       "      <td>3.82</td>\n",
       "    </tr>\n",
       "    <tr>\n",
       "      <td>1381</td>\n",
       "      <td>Fiction / Alternative History Fiction / Fantasy / Historical Fiction / Mystery &amp; Detective / Women Sleuths</td>\n",
       "      <td>The Eyre Affair</td>\n",
       "      <td>Jasper Fforde</td>\n",
       "      <td>3.92</td>\n",
       "    </tr>\n",
       "    <tr>\n",
       "      <td>2661</td>\n",
       "      <td>Language Arts &amp; Disciplines / Journalism Psychology / Human Sexuality Science / Life Sciences / Biology Science / Life Sciences / Human Anatomy &amp; Physiology</td>\n",
       "      <td>Bonk: The Curious Coupling of Science and Sex</td>\n",
       "      <td>Mary Roach</td>\n",
       "      <td>3.83</td>\n",
       "    </tr>\n",
       "  </tbody>\n",
       "</table>\n",
       "</div>"
      ],
      "text/plain": [
       "                                                                                                                                                                                                           genre  \\\n",
       "book_id                                                                                                                                                                                                            \n",
       "1993                                                                                                                         Fiction / Fantasy / Paranormal Fiction / Horror Fiction / Thrillers / Supernatural    \n",
       "7260                                                                                                                                                    Fiction / Erotica / General Fiction / Romance / General    \n",
       "344                                                                                                                                                                                       Humor / Form / Essays    \n",
       "1042                                                                                Fiction / Media Tie-In Fiction / Mystery & Detective / Private Investigators Fiction / Science Fiction / Action & Adventure    \n",
       "310                                                                                                                                          Fiction / Family Life / General Fiction / Literary Fiction / Women    \n",
       "795                                                                                                                                     Fiction / Coming of Age Fiction / Humorous / General Fiction / Literary    \n",
       "3        Young Adult Fiction / Fantasy / Contemporary Young Adult Fiction / Paranormal, Occult & Supernatural Young Adult Fiction / Romance / Paranormal Young Adult Fiction / Social Themes / Dating & Sex Y...   \n",
       "52       Young Adult Fiction / Fantasy / Contemporary Young Adult Fiction / Paranormal, Occult & Supernatural Young Adult Fiction / Romance / Paranormal Young Adult Fiction / Social Themes / Dating & Sex Y...   \n",
       "1645                                                                                                                                          Fiction / Literary Fiction / Satire Fiction / Thrillers / General    \n",
       "1381                                                                                                 Fiction / Alternative History Fiction / Fantasy / Historical Fiction / Mystery & Detective / Women Sleuths    \n",
       "2661                                               Language Arts & Disciplines / Journalism Psychology / Human Sexuality Science / Life Sciences / Biology Science / Life Sciences / Human Anatomy & Physiology    \n",
       "\n",
       "                                        original_title          authors  \\\n",
       "book_id                                                                   \n",
       "1993                                The Vampire Armand        Anne Rice   \n",
       "7260                           The Feast of All Saints        Anne Rice   \n",
       "344                                              Naked    David Sedaris   \n",
       "1042           Dirk Gently's Holistic Detective Agency    Douglas Adams   \n",
       "310                                        Good in Bed  Jennifer Weiner   \n",
       "795                                        About a Boy      Nick Hornby   \n",
       "3                                             Twilight  Stephenie Meyer   \n",
       "52                                             Eclipse  Stephenie Meyer   \n",
       "1645           Rant: An Oral Biography of Buster Casey  Chuck Palahniuk   \n",
       "1381                                   The Eyre Affair    Jasper Fforde   \n",
       "2661     Bonk: The Curious Coupling of Science and Sex       Mary Roach   \n",
       "\n",
       "         average_rating  \n",
       "book_id                  \n",
       "1993               3.75  \n",
       "7260               3.83  \n",
       "344                4.08  \n",
       "1042               3.97  \n",
       "310                3.70  \n",
       "795                3.79  \n",
       "3                  3.57  \n",
       "52                 3.69  \n",
       "1645               3.82  \n",
       "1381               3.92  \n",
       "2661               3.83  "
      ]
     },
     "metadata": {},
     "output_type": "display_data"
    }
   ],
   "source": [
    "display(books_meta_data.loc[books_meta_data.book_id.isin(reviewed_books), \n",
    "                            ['book_id', 'genre']].set_index('book_id').join(reviewed_books_sub))"
   ]
  },
  {
   "cell_type": "markdown",
   "metadata": {},
   "source": [
    "**#TODO Consolidate genres where applicable**\n",
    "\n",
    "Notice that book '7379' has 'Humorous' listed as one of it's genre yet, similarity score is 0.0 with the book '534' even though one of it's genre is 'Humor'. That's for user 28"
   ]
  },
  {
   "cell_type": "code",
   "execution_count": 15,
   "metadata": {},
   "outputs": [
    {
     "data": {
      "text/plain": [
       "book_id\n",
       "7379    0.0\n",
       "Name: 1923, dtype: float64"
      ]
     },
     "execution_count": 15,
     "metadata": {},
     "output_type": "execute_result"
    }
   ],
   "source": [
    "genre_similarity[genre_similarity.index == 7379]['1923']"
   ]
  },
  {
   "cell_type": "markdown",
   "metadata": {},
   "source": [
    "# Partition The Data"
   ]
  },
  {
   "cell_type": "code",
   "execution_count": 16,
   "metadata": {},
   "outputs": [
    {
     "data": {
      "text/html": [
       "<div>\n",
       "<style scoped>\n",
       "    .dataframe tbody tr th:only-of-type {\n",
       "        vertical-align: middle;\n",
       "    }\n",
       "\n",
       "    .dataframe tbody tr th {\n",
       "        vertical-align: top;\n",
       "    }\n",
       "\n",
       "    .dataframe thead th {\n",
       "        text-align: right;\n",
       "    }\n",
       "</style>\n",
       "<table border=\"1\" class=\"dataframe\">\n",
       "  <thead>\n",
       "    <tr style=\"text-align: right;\">\n",
       "      <th></th>\n",
       "      <th>User</th>\n",
       "      <th>Books_Reviewed</th>\n",
       "    </tr>\n",
       "  </thead>\n",
       "  <tbody>\n",
       "    <tr>\n",
       "      <td>0</td>\n",
       "      <td>1</td>\n",
       "      <td>{1796, 6665, 3638, 54, 1176}</td>\n",
       "    </tr>\n",
       "    <tr>\n",
       "      <td>1</td>\n",
       "      <td>2</td>\n",
       "      <td>{193, 8034, 264, 3305, 211, 54}</td>\n",
       "    </tr>\n",
       "    <tr>\n",
       "      <td>2</td>\n",
       "      <td>4</td>\n",
       "      <td>{7, 264, 492, 401, 54, 344, 1210, 575}</td>\n",
       "    </tr>\n",
       "    <tr>\n",
       "      <td>3</td>\n",
       "      <td>6</td>\n",
       "      <td>{2661, 2279, 4079, 9295, 2321, 374, 247, 1976, 3933}</td>\n",
       "    </tr>\n",
       "    <tr>\n",
       "      <td>4</td>\n",
       "      <td>8</td>\n",
       "      <td>{264, 2781, 54}</td>\n",
       "    </tr>\n",
       "  </tbody>\n",
       "</table>\n",
       "</div>"
      ],
      "text/plain": [
       "   User                                        Books_Reviewed\n",
       "0     1                          {1796, 6665, 3638, 54, 1176}\n",
       "1     2                       {193, 8034, 264, 3305, 211, 54}\n",
       "2     4                {7, 264, 492, 401, 54, 344, 1210, 575}\n",
       "3     6  {2661, 2279, 4079, 9295, 2321, 374, 247, 1976, 3933}\n",
       "4     8                                       {264, 2781, 54}"
      ]
     },
     "execution_count": 16,
     "metadata": {},
     "output_type": "execute_result"
    }
   ],
   "source": [
    "books_reviewed_by_users_df.head()"
   ]
  },
  {
   "cell_type": "code",
   "execution_count": 17,
   "metadata": {},
   "outputs": [],
   "source": [
    "part_list, left_out_list = partition(books_reviewed_by_users_df.Books_Reviewed.values)"
   ]
  },
  {
   "cell_type": "code",
   "execution_count": 18,
   "metadata": {},
   "outputs": [],
   "source": [
    "books_reviewed_by_users_df.loc[:, 'Books_Reviewed'] = part_list\n",
    "books_reviewed_by_users_df.loc[:, 'Left_Out'] = left_out_list"
   ]
  },
  {
   "cell_type": "code",
   "execution_count": 19,
   "metadata": {},
   "outputs": [
    {
     "data": {
      "text/html": [
       "<div>\n",
       "<style scoped>\n",
       "    .dataframe tbody tr th:only-of-type {\n",
       "        vertical-align: middle;\n",
       "    }\n",
       "\n",
       "    .dataframe tbody tr th {\n",
       "        vertical-align: top;\n",
       "    }\n",
       "\n",
       "    .dataframe thead th {\n",
       "        text-align: right;\n",
       "    }\n",
       "</style>\n",
       "<table border=\"1\" class=\"dataframe\">\n",
       "  <thead>\n",
       "    <tr style=\"text-align: right;\">\n",
       "      <th></th>\n",
       "      <th>User</th>\n",
       "      <th>Books_Reviewed</th>\n",
       "      <th>Left_Out</th>\n",
       "    </tr>\n",
       "  </thead>\n",
       "  <tbody>\n",
       "    <tr>\n",
       "      <td>0</td>\n",
       "      <td>1</td>\n",
       "      <td>{1796, 3638, 54, 1176}</td>\n",
       "      <td>6665</td>\n",
       "    </tr>\n",
       "    <tr>\n",
       "      <td>1</td>\n",
       "      <td>2</td>\n",
       "      <td>{193, 8034, 264, 3305, 54}</td>\n",
       "      <td>211</td>\n",
       "    </tr>\n",
       "    <tr>\n",
       "      <td>2</td>\n",
       "      <td>4</td>\n",
       "      <td>{7, 264, 492, 401, 54, 1210, 575}</td>\n",
       "      <td>344</td>\n",
       "    </tr>\n",
       "    <tr>\n",
       "      <td>3</td>\n",
       "      <td>6</td>\n",
       "      <td>{2661, 2279, 4079, 9295, 2321, 374, 247, 3933}</td>\n",
       "      <td>1976</td>\n",
       "    </tr>\n",
       "    <tr>\n",
       "      <td>4</td>\n",
       "      <td>8</td>\n",
       "      <td>{2781, 54}</td>\n",
       "      <td>264</td>\n",
       "    </tr>\n",
       "  </tbody>\n",
       "</table>\n",
       "</div>"
      ],
      "text/plain": [
       "   User                                  Books_Reviewed  Left_Out\n",
       "0     1                          {1796, 3638, 54, 1176}      6665\n",
       "1     2                      {193, 8034, 264, 3305, 54}       211\n",
       "2     4               {7, 264, 492, 401, 54, 1210, 575}       344\n",
       "3     6  {2661, 2279, 4079, 9295, 2321, 374, 247, 3933}      1976\n",
       "4     8                                      {2781, 54}       264"
      ]
     },
     "execution_count": 19,
     "metadata": {},
     "output_type": "execute_result"
    }
   ],
   "source": [
    "books_reviewed_by_users_df.head(n=5)"
   ]
  },
  {
   "cell_type": "markdown",
   "metadata": {},
   "source": [
    "# Make Recommendations"
   ]
  },
  {
   "cell_type": "code",
   "execution_count": 20,
   "metadata": {},
   "outputs": [],
   "source": [
    "book_recommender = BookRecommender()"
   ]
  },
  {
   "cell_type": "code",
   "execution_count": 21,
   "metadata": {
    "scrolled": true
   },
   "outputs": [
    {
     "name": "stdout",
     "output_type": "stream",
     "text": [
      "CPU times: user 1min 50s, sys: 1 s, total: 1min 51s\n",
      "Wall time: 1min 51s\n"
     ]
    }
   ],
   "source": [
    "%%time\n",
    "recommended_books = book_recommender.recommend(books_reviewed_by_users_df.User.values,\n",
    "                                               books_reviewed_by_users_df.Books_Reviewed.values)"
   ]
  },
  {
   "cell_type": "markdown",
   "metadata": {},
   "source": [
    "## Metrics"
   ]
  },
  {
   "cell_type": "code",
   "execution_count": 22,
   "metadata": {},
   "outputs": [
    {
     "data": {
      "text/plain": [
       "0.49696969696969695"
      ]
     },
     "execution_count": 22,
     "metadata": {},
     "output_type": "execute_result"
    }
   ],
   "source": [
    "hrate = hit_rate(recommended_books, books_reviewed_by_users_df.Left_Out.values)\n",
    "hrate"
   ]
  },
  {
   "cell_type": "code",
   "execution_count": 23,
   "metadata": {},
   "outputs": [],
   "source": [
    "books_reviewed_by_users_df.loc[:, 'Recommended_Books'] = recommended_books"
   ]
  },
  {
   "cell_type": "code",
   "execution_count": 55,
   "metadata": {},
   "outputs": [],
   "source": [
    "def topn(user_id, n=10, df=books_reviewed_by_users_df):\n",
    "\n",
    "    book_list = list(df.loc[df.User == user_id, 'Recommended_Books'].values[0])\n",
    "    books_with_rating = books_data.loc[books_data.index.isin(book_list), ['book_id', 'average_rating']]\n",
    "    return books_with_rating.nlargest(n, 'average_rating').book_id.tolist()"
   ]
  },
  {
   "cell_type": "code",
   "execution_count": 56,
   "metadata": {},
   "outputs": [],
   "source": [
    "top_list = list(map(str, [topn(user_id, 10) for user_id in books_reviewed_by_users_df.User]))"
   ]
  },
  {
   "cell_type": "code",
   "execution_count": 47,
   "metadata": {
    "scrolled": true
   },
   "outputs": [
    {
     "data": {
      "text/plain": [
       "0.12727272727272726"
      ]
     },
     "execution_count": 47,
     "metadata": {},
     "output_type": "execute_result"
    }
   ],
   "source": [
    "hit_rate(top_list, books_reviewed_by_users_df.Left_Out.values)"
   ]
  },
  {
   "cell_type": "code",
   "execution_count": 122,
   "metadata": {},
   "outputs": [],
   "source": [
    "def top_recommendation_by_user(user_id):\n",
    "    \n",
    "    top_10 = topn(user_id)\n",
    "    print(top_10)\n",
    "    top_10_md = books_data.loc[books_data.book_id.isin(top_10), ['book_id', 'title', 'authors', 'average_rating']]\n",
    "\n",
    "    #print(books_meta_data[books_meta_data.index == top_10])\n",
    "    #meta_data = books_meta_data.reset_index()\n",
    "    #print(meta_data.head(n=1))\n",
    "    #print(meta_data[meta_data.isin(top_10)])\n",
    "    #top_10_md = meta_data.loc[meta_data.index.isin(top_10), \n",
    "    #                                ['genre', 'original_title', 'average_rating', 'authors']]\n",
    "    return top_10_md"
   ]
  },
  {
   "cell_type": "code",
   "execution_count": 123,
   "metadata": {},
   "outputs": [
    {
     "name": "stdout",
     "output_type": "stream",
     "text": [
      "[5919, 4868, 8172, 8918, 1340, 3759, 4224, 1760, 5523, 7269]\n"
     ]
    },
    {
     "data": {
      "text/html": [
       "<div>\n",
       "<style scoped>\n",
       "    .dataframe tbody tr th:only-of-type {\n",
       "        vertical-align: middle;\n",
       "    }\n",
       "\n",
       "    .dataframe tbody tr th {\n",
       "        vertical-align: top;\n",
       "    }\n",
       "\n",
       "    .dataframe thead th {\n",
       "        text-align: right;\n",
       "    }\n",
       "</style>\n",
       "<table border=\"1\" class=\"dataframe\">\n",
       "  <thead>\n",
       "    <tr style=\"text-align: right;\">\n",
       "      <th></th>\n",
       "      <th>book_id</th>\n",
       "      <th>title</th>\n",
       "      <th>authors</th>\n",
       "      <th>average_rating</th>\n",
       "    </tr>\n",
       "  </thead>\n",
       "  <tbody>\n",
       "    <tr>\n",
       "      <td>1339</td>\n",
       "      <td>1340</td>\n",
       "      <td>Dead Beat (The Dresden Files, #7)</td>\n",
       "      <td>Jim Butcher</td>\n",
       "      <td>4.43</td>\n",
       "    </tr>\n",
       "    <tr>\n",
       "      <td>1759</td>\n",
       "      <td>1760</td>\n",
       "      <td>Keys to the Demon Prison (Fablehaven, #5)</td>\n",
       "      <td>Brandon Mull</td>\n",
       "      <td>4.42</td>\n",
       "    </tr>\n",
       "    <tr>\n",
       "      <td>3758</td>\n",
       "      <td>3759</td>\n",
       "      <td>Sookie Stackhouse 7-copy Boxed Set (Sookie Stackhouse, #1-7)</td>\n",
       "      <td>Charlaine Harris</td>\n",
       "      <td>4.43</td>\n",
       "    </tr>\n",
       "    <tr>\n",
       "      <td>4223</td>\n",
       "      <td>4224</td>\n",
       "      <td>Motorcycle Man (Dream Man, #4)</td>\n",
       "      <td>Kristen Ashley</td>\n",
       "      <td>4.43</td>\n",
       "    </tr>\n",
       "    <tr>\n",
       "      <td>4867</td>\n",
       "      <td>4868</td>\n",
       "      <td>Jesus the Christ</td>\n",
       "      <td>James E. Talmage</td>\n",
       "      <td>4.63</td>\n",
       "    </tr>\n",
       "    <tr>\n",
       "      <td>5522</td>\n",
       "      <td>5523</td>\n",
       "      <td>Bleach, Volume 15</td>\n",
       "      <td>Tite Kubo</td>\n",
       "      <td>4.41</td>\n",
       "    </tr>\n",
       "    <tr>\n",
       "      <td>5918</td>\n",
       "      <td>5919</td>\n",
       "      <td>Life Application Study Bible: NIV</td>\n",
       "      <td>Anonymous, Ronald A. Beers, Ronald A. Beers</td>\n",
       "      <td>4.67</td>\n",
       "    </tr>\n",
       "    <tr>\n",
       "      <td>7268</td>\n",
       "      <td>7269</td>\n",
       "      <td>Arch of Triumph: A Novel of a Man Without a Country</td>\n",
       "      <td>Erich Maria Remarque</td>\n",
       "      <td>4.40</td>\n",
       "    </tr>\n",
       "    <tr>\n",
       "      <td>8171</td>\n",
       "      <td>8172</td>\n",
       "      <td>Ouran High School Host Club, Vol. 2 (Ouran High School Host Club, #2)</td>\n",
       "      <td>Bisco Hatori</td>\n",
       "      <td>4.46</td>\n",
       "    </tr>\n",
       "    <tr>\n",
       "      <td>8917</td>\n",
       "      <td>8918</td>\n",
       "      <td>Rock Chick Revolution (Rock Chick, #8)</td>\n",
       "      <td>Kristen Ashley</td>\n",
       "      <td>4.46</td>\n",
       "    </tr>\n",
       "  </tbody>\n",
       "</table>\n",
       "</div>"
      ],
      "text/plain": [
       "      book_id  \\\n",
       "1339     1340   \n",
       "1759     1760   \n",
       "3758     3759   \n",
       "4223     4224   \n",
       "4867     4868   \n",
       "5522     5523   \n",
       "5918     5919   \n",
       "7268     7269   \n",
       "8171     8172   \n",
       "8917     8918   \n",
       "\n",
       "                                                                      title  \\\n",
       "1339                                      Dead Beat (The Dresden Files, #7)   \n",
       "1759                              Keys to the Demon Prison (Fablehaven, #5)   \n",
       "3758           Sookie Stackhouse 7-copy Boxed Set (Sookie Stackhouse, #1-7)   \n",
       "4223                                         Motorcycle Man (Dream Man, #4)   \n",
       "4867                                                       Jesus the Christ   \n",
       "5522                                                      Bleach, Volume 15   \n",
       "5918                                      Life Application Study Bible: NIV   \n",
       "7268                    Arch of Triumph: A Novel of a Man Without a Country   \n",
       "8171  Ouran High School Host Club, Vol. 2 (Ouran High School Host Club, #2)   \n",
       "8917                                 Rock Chick Revolution (Rock Chick, #8)   \n",
       "\n",
       "                                          authors  average_rating  \n",
       "1339                                  Jim Butcher            4.43  \n",
       "1759                                 Brandon Mull            4.42  \n",
       "3758                             Charlaine Harris            4.43  \n",
       "4223                               Kristen Ashley            4.43  \n",
       "4867                             James E. Talmage            4.63  \n",
       "5522                                    Tite Kubo            4.41  \n",
       "5918  Anonymous, Ronald A. Beers, Ronald A. Beers            4.67  \n",
       "7268                         Erich Maria Remarque            4.40  \n",
       "8171                                 Bisco Hatori            4.46  \n",
       "8917                               Kristen Ashley            4.46  "
      ]
     },
     "execution_count": 123,
     "metadata": {},
     "output_type": "execute_result"
    }
   ],
   "source": [
    "#books_meta_data.loc[books_meta_data.book_id.isin(selected_user_top_n.index.values), ['genre', 'book_id']].set_index('book_id').join(selected_user_top_n)\n",
    "top_recommendation_by_user(4)\n",
    "#books_meta_data.head()\n",
    "#books_meta_data.index"
   ]
  },
  {
   "cell_type": "code",
   "execution_count": null,
   "metadata": {},
   "outputs": [],
   "source": []
  },
  {
   "cell_type": "code",
   "execution_count": null,
   "metadata": {},
   "outputs": [],
   "source": []
  }
 ],
 "metadata": {
  "kernelspec": {
   "display_name": "Python 3",
   "language": "python",
   "name": "python3"
  },
  "language_info": {
   "codemirror_mode": {
    "name": "ipython",
    "version": 3
   },
   "file_extension": ".py",
   "mimetype": "text/x-python",
   "name": "python",
   "nbconvert_exporter": "python",
   "pygments_lexer": "ipython3",
   "version": "3.7.4"
  }
 },
 "nbformat": 4,
 "nbformat_minor": 2
}
