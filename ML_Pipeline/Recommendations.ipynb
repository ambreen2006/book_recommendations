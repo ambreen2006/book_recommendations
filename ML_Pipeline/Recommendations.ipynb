{
 "cells": [
  {
   "cell_type": "markdown",
   "metadata": {},
   "source": [
    "# Imports"
   ]
  },
  {
   "cell_type": "code",
   "execution_count": 1,
   "metadata": {},
   "outputs": [],
   "source": [
    "import os\n",
    "import sys\n",
    "from pathlib import Path\n",
    "\n",
    "import numpy as np\n",
    "import pandas as pd"
   ]
  },
  {
   "cell_type": "code",
   "execution_count": 2,
   "metadata": {},
   "outputs": [],
   "source": [
    "parent_path = Path(os.getcwd()).resolve().parent\n",
    "sys.path.append(str(parent_path))\n",
    "\n",
    "from data_loader import BooksDataLoader\n",
    "from book_recommender import BookRecommender\n",
    "from book_recommender import partition\n",
    "from book_recommender import hit_rate"
   ]
  },
  {
   "cell_type": "markdown",
   "metadata": {},
   "source": [
    "# Reading Data In Memory"
   ]
  },
  {
   "cell_type": "code",
   "execution_count": 3,
   "metadata": {},
   "outputs": [],
   "source": [
    "books_data_loader = BooksDataLoader(base_dir='../')\n",
    "\n",
    "readers_data = books_data_loader.get_readers_data()\n",
    "books_data = books_data_loader.get_books_data()\n",
    "books_meta_data = books_data_loader.get_books_meta_data()"
   ]
  },
  {
   "cell_type": "code",
   "execution_count": 4,
   "metadata": {},
   "outputs": [
    {
     "data": {
      "text/html": [
       "<div>\n",
       "<style scoped>\n",
       "    .dataframe tbody tr th:only-of-type {\n",
       "        vertical-align: middle;\n",
       "    }\n",
       "\n",
       "    .dataframe tbody tr th {\n",
       "        vertical-align: top;\n",
       "    }\n",
       "\n",
       "    .dataframe thead th {\n",
       "        text-align: right;\n",
       "    }\n",
       "</style>\n",
       "<table border=\"1\" class=\"dataframe\">\n",
       "  <thead>\n",
       "    <tr style=\"text-align: right;\">\n",
       "      <th></th>\n",
       "      <th>user_id</th>\n",
       "      <th>book_id</th>\n",
       "      <th>rating</th>\n",
       "    </tr>\n",
       "  </thead>\n",
       "  <tbody>\n",
       "    <tr>\n",
       "      <th>0</th>\n",
       "      <td>1</td>\n",
       "      <td>258</td>\n",
       "      <td>5</td>\n",
       "    </tr>\n",
       "    <tr>\n",
       "      <th>1</th>\n",
       "      <td>2</td>\n",
       "      <td>4081</td>\n",
       "      <td>4</td>\n",
       "    </tr>\n",
       "    <tr>\n",
       "      <th>2</th>\n",
       "      <td>2</td>\n",
       "      <td>260</td>\n",
       "      <td>5</td>\n",
       "    </tr>\n",
       "    <tr>\n",
       "      <th>3</th>\n",
       "      <td>2</td>\n",
       "      <td>9296</td>\n",
       "      <td>5</td>\n",
       "    </tr>\n",
       "    <tr>\n",
       "      <th>4</th>\n",
       "      <td>2</td>\n",
       "      <td>2318</td>\n",
       "      <td>3</td>\n",
       "    </tr>\n",
       "  </tbody>\n",
       "</table>\n",
       "</div>"
      ],
      "text/plain": [
       "   user_id  book_id  rating\n",
       "0        1      258       5\n",
       "1        2     4081       4\n",
       "2        2      260       5\n",
       "3        2     9296       5\n",
       "4        2     2318       3"
      ]
     },
     "execution_count": 4,
     "metadata": {},
     "output_type": "execute_result"
    }
   ],
   "source": [
    "readers_data.head()"
   ]
  },
  {
   "cell_type": "code",
   "execution_count": 5,
   "metadata": {},
   "outputs": [],
   "source": [
    "book_recommender = BookRecommender(base_dir='../')"
   ]
  },
  {
   "cell_type": "code",
   "execution_count": 6,
   "metadata": {},
   "outputs": [],
   "source": [
    "books_available = set(map(int, book_recommender.get_books_available()))"
   ]
  },
  {
   "cell_type": "markdown",
   "metadata": {},
   "source": [
    "# User Selection"
   ]
  },
  {
   "cell_type": "markdown",
   "metadata": {},
   "source": [
    "A user subset is selected and each user's reviewed books rated by the user equal to and above the threshold are extracted."
   ]
  },
  {
   "cell_type": "code",
   "execution_count": 7,
   "metadata": {},
   "outputs": [],
   "source": [
    "selected_user_list = readers_data[readers_data.book_id.isin(books_available)].user_id.unique().tolist()[:100]"
   ]
  },
  {
   "cell_type": "code",
   "execution_count": 8,
   "metadata": {},
   "outputs": [
    {
     "name": "stdout",
     "output_type": "stream",
     "text": [
      "CPU times: user 11.8 s, sys: 2.8 s, total: 14.6 s\n",
      "Wall time: 14.7 s\n"
     ]
    }
   ],
   "source": [
    "%%time \n",
    "\n",
    "books_reviewed_by_users = []\n",
    "\n",
    "rating_threshold = 3\n",
    "\n",
    "for user in selected_user_list:\n",
    "\n",
    "    reviewed_all =  set(readers_data[readers_data.user_id == user].book_id.values)\n",
    "    reviewed = reviewed_all.intersection(books_available)\n",
    "\n",
    "    #filter out low rating books\n",
    "    reviewed = set(book_id for book_id in reviewed\n",
    "                    if (readers_data[(readers_data.user_id == user) \n",
    "                                     & (readers_data.book_id == book_id)].rating >= rating_threshold).any())\n",
    "\n",
    "    if len(reviewed) > 1:\n",
    "        books_reviewed_by_users.append((user, reviewed))"
   ]
  },
  {
   "cell_type": "code",
   "execution_count": 9,
   "metadata": {},
   "outputs": [],
   "source": [
    "books_reviewed_by_users_df = pd.DataFrame(books_reviewed_by_users, columns=['User', 'Books_Reviewed'])"
   ]
  },
  {
   "cell_type": "markdown",
   "metadata": {},
   "source": [
    "Below show a sample of the users and their books reviewed."
   ]
  },
  {
   "cell_type": "code",
   "execution_count": 10,
   "metadata": {},
   "outputs": [
    {
     "data": {
      "text/html": [
       "<div>\n",
       "<style scoped>\n",
       "    .dataframe tbody tr th:only-of-type {\n",
       "        vertical-align: middle;\n",
       "    }\n",
       "\n",
       "    .dataframe tbody tr th {\n",
       "        vertical-align: top;\n",
       "    }\n",
       "\n",
       "    .dataframe thead th {\n",
       "        text-align: right;\n",
       "    }\n",
       "</style>\n",
       "<table border=\"1\" class=\"dataframe\">\n",
       "  <thead>\n",
       "    <tr style=\"text-align: right;\">\n",
       "      <th></th>\n",
       "      <th>User</th>\n",
       "      <th>Books_Reviewed</th>\n",
       "    </tr>\n",
       "  </thead>\n",
       "  <tbody>\n",
       "    <tr>\n",
       "      <th>0</th>\n",
       "      <td>4</td>\n",
       "      <td>{7, 264, 492, 401, 54, 344, 1210, 575}</td>\n",
       "    </tr>\n",
       "    <tr>\n",
       "      <th>1</th>\n",
       "      <td>1</td>\n",
       "      <td>{1796, 6665, 3638, 54, 1176}</td>\n",
       "    </tr>\n",
       "    <tr>\n",
       "      <th>2</th>\n",
       "      <td>9</td>\n",
       "      <td>{3, 1923, 264, 238, 52, 344, 56, 795}</td>\n",
       "    </tr>\n",
       "    <tr>\n",
       "      <th>3</th>\n",
       "      <td>15</td>\n",
       "      <td>{3, 1381, 2661, 1993, 1645, 1042, 52, 310, 344...</td>\n",
       "    </tr>\n",
       "    <tr>\n",
       "      <th>4</th>\n",
       "      <td>18</td>\n",
       "      <td>{1153, 1923, 743, 7, 3883, 2923, 4979, 534, 32...</td>\n",
       "    </tr>\n",
       "  </tbody>\n",
       "</table>\n",
       "</div>"
      ],
      "text/plain": [
       "   User                                     Books_Reviewed\n",
       "0     4             {7, 264, 492, 401, 54, 344, 1210, 575}\n",
       "1     1                       {1796, 6665, 3638, 54, 1176}\n",
       "2     9              {3, 1923, 264, 238, 52, 344, 56, 795}\n",
       "3    15  {3, 1381, 2661, 1993, 1645, 1042, 52, 310, 344...\n",
       "4    18  {1153, 1923, 743, 7, 3883, 2923, 4979, 534, 32..."
      ]
     },
     "execution_count": 10,
     "metadata": {},
     "output_type": "execute_result"
    }
   ],
   "source": [
    "books_reviewed_by_users_df.head()"
   ]
  },
  {
   "cell_type": "markdown",
   "metadata": {},
   "source": [
    "These are the unique users in our test sample."
   ]
  },
  {
   "cell_type": "code",
   "execution_count": 11,
   "metadata": {},
   "outputs": [
    {
     "data": {
      "text/plain": [
       "array([  4,   1,   9,  15,  18,  22,  32,  34,  40,  31,  55,  65,  70,\n",
       "        72,  73,  75,  76,  61,  54,  78,  89,  93,  26,  29, 103, 105,\n",
       "       108, 112, 113, 115, 116, 125, 126, 137, 135, 124, 142, 149, 156,\n",
       "         8, 130, 158, 167, 169, 177, 175, 178, 171, 185, 184, 183, 168,\n",
       "       106, 195, 143, 199, 179,  10, 203, 204, 207, 214, 206, 220, 212,\n",
       "       228, 229, 232, 233, 237, 239, 240, 245, 246, 242, 250, 248, 257,\n",
       "       247, 258, 162, 263, 264, 265, 274, 278, 283, 276, 286, 287])"
      ]
     },
     "execution_count": 11,
     "metadata": {},
     "output_type": "execute_result"
    }
   ],
   "source": [
    "books_reviewed_by_users_df.User.unique()"
   ]
  },
  {
   "cell_type": "markdown",
   "metadata": {},
   "source": [
    "Just to explore a little more, selecting a specific user. User at index 7 is user_id 34."
   ]
  },
  {
   "cell_type": "code",
   "execution_count": 12,
   "metadata": {},
   "outputs": [
    {
     "data": {
      "text/plain": [
       "{232, 1343, 1657, 2407, 3314}"
      ]
     },
     "execution_count": 12,
     "metadata": {},
     "output_type": "execute_result"
    }
   ],
   "source": [
    "selected_user_index = 7\n",
    "reviewed_books = books_reviewed_by_users_df.iloc[selected_user_index, 1]\n",
    "reviewed_books"
   ]
  },
  {
   "cell_type": "code",
   "execution_count": 13,
   "metadata": {},
   "outputs": [
    {
     "data": {
      "text/plain": [
       "34"
      ]
     },
     "execution_count": 13,
     "metadata": {},
     "output_type": "execute_result"
    }
   ],
   "source": [
    "selected_user_id = books_reviewed_by_users_df.iloc[selected_user_index, 0]\n",
    "selected_user_id"
   ]
  },
  {
   "cell_type": "code",
   "execution_count": 14,
   "metadata": {},
   "outputs": [
    {
     "data": {
      "text/plain": [
       "(90, 2)"
      ]
     },
     "execution_count": 14,
     "metadata": {},
     "output_type": "execute_result"
    }
   ],
   "source": [
    "books_reviewed_by_users_df.shape"
   ]
  },
  {
   "cell_type": "code",
   "execution_count": 15,
   "metadata": {},
   "outputs": [],
   "source": [
    "reviewed_books_sub = books_data.loc[books_data.book_id.isin(reviewed_books), \n",
    "                                    ['book_id','original_title', 'authors', 'average_rating']]\n",
    "reviewed_books_sub = reviewed_books_sub.set_index('book_id')"
   ]
  },
  {
   "cell_type": "markdown",
   "metadata": {},
   "source": [
    "These are the books reviewed by user 34."
   ]
  },
  {
   "cell_type": "code",
   "execution_count": 16,
   "metadata": {},
   "outputs": [
    {
     "data": {
      "text/html": [
       "<div>\n",
       "<style scoped>\n",
       "    .dataframe tbody tr th:only-of-type {\n",
       "        vertical-align: middle;\n",
       "    }\n",
       "\n",
       "    .dataframe tbody tr th {\n",
       "        vertical-align: top;\n",
       "    }\n",
       "\n",
       "    .dataframe thead th {\n",
       "        text-align: right;\n",
       "    }\n",
       "</style>\n",
       "<table border=\"1\" class=\"dataframe\">\n",
       "  <thead>\n",
       "    <tr style=\"text-align: right;\">\n",
       "      <th></th>\n",
       "      <th>original_title</th>\n",
       "      <th>authors</th>\n",
       "      <th>average_rating</th>\n",
       "    </tr>\n",
       "    <tr>\n",
       "      <th>book_id</th>\n",
       "      <th></th>\n",
       "      <th></th>\n",
       "      <th></th>\n",
       "    </tr>\n",
       "  </thead>\n",
       "  <tbody>\n",
       "    <tr>\n",
       "      <th>232</th>\n",
       "      <td>The Gunslinger</td>\n",
       "      <td>Stephen King</td>\n",
       "      <td>3.99</td>\n",
       "    </tr>\n",
       "    <tr>\n",
       "      <th>1343</th>\n",
       "      <td>The Light Fantastic</td>\n",
       "      <td>Terry Pratchett</td>\n",
       "      <td>3.94</td>\n",
       "    </tr>\n",
       "    <tr>\n",
       "      <th>1657</th>\n",
       "      <td>Infinite Jest</td>\n",
       "      <td>David Foster Wallace</td>\n",
       "      <td>4.31</td>\n",
       "    </tr>\n",
       "    <tr>\n",
       "      <th>2407</th>\n",
       "      <td>Princeps' Fury</td>\n",
       "      <td>Jim Butcher</td>\n",
       "      <td>4.35</td>\n",
       "    </tr>\n",
       "    <tr>\n",
       "      <th>3314</th>\n",
       "      <td>Quicksilver</td>\n",
       "      <td>Neal Stephenson</td>\n",
       "      <td>3.92</td>\n",
       "    </tr>\n",
       "  </tbody>\n",
       "</table>\n",
       "</div>"
      ],
      "text/plain": [
       "              original_title               authors  average_rating\n",
       "book_id                                                           \n",
       "232           The Gunslinger          Stephen King            3.99\n",
       "1343     The Light Fantastic       Terry Pratchett            3.94\n",
       "1657           Infinite Jest  David Foster Wallace            4.31\n",
       "2407          Princeps' Fury           Jim Butcher            4.35\n",
       "3314             Quicksilver       Neal Stephenson            3.92"
      ]
     },
     "execution_count": 16,
     "metadata": {},
     "output_type": "execute_result"
    }
   ],
   "source": [
    "reviewed_books_sub"
   ]
  },
  {
   "cell_type": "code",
   "execution_count": 17,
   "metadata": {},
   "outputs": [],
   "source": [
    "pd.set_option('max_colwidth', 200)"
   ]
  },
  {
   "cell_type": "markdown",
   "metadata": {},
   "source": [
    "Table below shows the books by user 34 alongside their genre information."
   ]
  },
  {
   "cell_type": "code",
   "execution_count": 18,
   "metadata": {},
   "outputs": [
    {
     "data": {
      "text/html": [
       "<div>\n",
       "<style scoped>\n",
       "    .dataframe tbody tr th:only-of-type {\n",
       "        vertical-align: middle;\n",
       "    }\n",
       "\n",
       "    .dataframe tbody tr th {\n",
       "        vertical-align: top;\n",
       "    }\n",
       "\n",
       "    .dataframe thead th {\n",
       "        text-align: right;\n",
       "    }\n",
       "</style>\n",
       "<table border=\"1\" class=\"dataframe\">\n",
       "  <thead>\n",
       "    <tr style=\"text-align: right;\">\n",
       "      <th></th>\n",
       "      <th>genre</th>\n",
       "      <th>original_title</th>\n",
       "      <th>authors</th>\n",
       "      <th>average_rating</th>\n",
       "    </tr>\n",
       "    <tr>\n",
       "      <th>book_id</th>\n",
       "      <th></th>\n",
       "      <th></th>\n",
       "      <th></th>\n",
       "      <th></th>\n",
       "    </tr>\n",
       "  </thead>\n",
       "  <tbody>\n",
       "    <tr>\n",
       "      <th>232</th>\n",
       "      <td>Fiction / Fantasy / Dark Fantasy Fiction / Thrillers / Supernatural</td>\n",
       "      <td>The Gunslinger</td>\n",
       "      <td>Stephen King</td>\n",
       "      <td>3.99</td>\n",
       "    </tr>\n",
       "    <tr>\n",
       "      <th>2407</th>\n",
       "      <td>Fiction / Fantasy / Action &amp; Adventure Fiction / Fantasy / Epic Fiction / Fantasy / Military</td>\n",
       "      <td>Princeps' Fury</td>\n",
       "      <td>Jim Butcher</td>\n",
       "      <td>4.35</td>\n",
       "    </tr>\n",
       "    <tr>\n",
       "      <th>1343</th>\n",
       "      <td>Fiction / Fantasy / Action &amp; Adventure Fiction / Fantasy / Contemporary Fiction / Fantasy / Humorous</td>\n",
       "      <td>The Light Fantastic</td>\n",
       "      <td>Terry Pratchett</td>\n",
       "      <td>3.94</td>\n",
       "    </tr>\n",
       "    <tr>\n",
       "      <th>1657</th>\n",
       "      <td>Fiction / Classics Fiction / Literary Fiction / Sports</td>\n",
       "      <td>Infinite Jest</td>\n",
       "      <td>David Foster Wallace</td>\n",
       "      <td>4.31</td>\n",
       "    </tr>\n",
       "    <tr>\n",
       "      <th>3314</th>\n",
       "      <td>Fiction / Fantasy / Historical Fiction / Historical / General Fiction / Science Fiction / General</td>\n",
       "      <td>Quicksilver</td>\n",
       "      <td>Neal Stephenson</td>\n",
       "      <td>3.92</td>\n",
       "    </tr>\n",
       "  </tbody>\n",
       "</table>\n",
       "</div>"
      ],
      "text/plain": [
       "                                                                                                         genre  \\\n",
       "book_id                                                                                                          \n",
       "232                                        Fiction / Fantasy / Dark Fantasy Fiction / Thrillers / Supernatural   \n",
       "2407             Fiction / Fantasy / Action & Adventure Fiction / Fantasy / Epic Fiction / Fantasy / Military    \n",
       "1343     Fiction / Fantasy / Action & Adventure Fiction / Fantasy / Contemporary Fiction / Fantasy / Humorous    \n",
       "1657                                                   Fiction / Classics Fiction / Literary Fiction / Sports    \n",
       "3314        Fiction / Fantasy / Historical Fiction / Historical / General Fiction / Science Fiction / General    \n",
       "\n",
       "              original_title               authors  average_rating  \n",
       "book_id                                                             \n",
       "232           The Gunslinger          Stephen King            3.99  \n",
       "2407          Princeps' Fury           Jim Butcher            4.35  \n",
       "1343     The Light Fantastic       Terry Pratchett            3.94  \n",
       "1657           Infinite Jest  David Foster Wallace            4.31  \n",
       "3314             Quicksilver       Neal Stephenson            3.92  "
      ]
     },
     "metadata": {},
     "output_type": "display_data"
    }
   ],
   "source": [
    "display(books_meta_data.loc[books_meta_data.book_id.isin(reviewed_books), \n",
    "                            ['book_id', 'genre']].set_index('book_id').join(reviewed_books_sub))"
   ]
  },
  {
   "cell_type": "markdown",
   "metadata": {},
   "source": [
    "# Partition The Data"
   ]
  },
  {
   "cell_type": "markdown",
   "metadata": {},
   "source": [
    "Here, we are going to randomly take out one book from the reader's reviewed list of books. "
   ]
  },
  {
   "cell_type": "code",
   "execution_count": 19,
   "metadata": {},
   "outputs": [
    {
     "data": {
      "text/html": [
       "<div>\n",
       "<style scoped>\n",
       "    .dataframe tbody tr th:only-of-type {\n",
       "        vertical-align: middle;\n",
       "    }\n",
       "\n",
       "    .dataframe tbody tr th {\n",
       "        vertical-align: top;\n",
       "    }\n",
       "\n",
       "    .dataframe thead th {\n",
       "        text-align: right;\n",
       "    }\n",
       "</style>\n",
       "<table border=\"1\" class=\"dataframe\">\n",
       "  <thead>\n",
       "    <tr style=\"text-align: right;\">\n",
       "      <th></th>\n",
       "      <th>User</th>\n",
       "      <th>Books_Reviewed</th>\n",
       "    </tr>\n",
       "  </thead>\n",
       "  <tbody>\n",
       "    <tr>\n",
       "      <th>0</th>\n",
       "      <td>4</td>\n",
       "      <td>{7, 264, 492, 401, 54, 344, 1210, 575}</td>\n",
       "    </tr>\n",
       "    <tr>\n",
       "      <th>1</th>\n",
       "      <td>1</td>\n",
       "      <td>{1796, 6665, 3638, 54, 1176}</td>\n",
       "    </tr>\n",
       "    <tr>\n",
       "      <th>2</th>\n",
       "      <td>9</td>\n",
       "      <td>{3, 1923, 264, 238, 52, 344, 56, 795}</td>\n",
       "    </tr>\n",
       "    <tr>\n",
       "      <th>3</th>\n",
       "      <td>15</td>\n",
       "      <td>{3, 1381, 2661, 1993, 1645, 1042, 52, 310, 344, 795, 7260}</td>\n",
       "    </tr>\n",
       "    <tr>\n",
       "      <th>4</th>\n",
       "      <td>18</td>\n",
       "      <td>{1153, 1923, 743, 7, 3883, 2923, 4979, 534, 3254, 344, 1176}</td>\n",
       "    </tr>\n",
       "  </tbody>\n",
       "</table>\n",
       "</div>"
      ],
      "text/plain": [
       "   User                                                Books_Reviewed\n",
       "0     4                        {7, 264, 492, 401, 54, 344, 1210, 575}\n",
       "1     1                                  {1796, 6665, 3638, 54, 1176}\n",
       "2     9                         {3, 1923, 264, 238, 52, 344, 56, 795}\n",
       "3    15    {3, 1381, 2661, 1993, 1645, 1042, 52, 310, 344, 795, 7260}\n",
       "4    18  {1153, 1923, 743, 7, 3883, 2923, 4979, 534, 3254, 344, 1176}"
      ]
     },
     "execution_count": 19,
     "metadata": {},
     "output_type": "execute_result"
    }
   ],
   "source": [
    "books_reviewed_by_users_df.head()"
   ]
  },
  {
   "cell_type": "code",
   "execution_count": 20,
   "metadata": {},
   "outputs": [],
   "source": [
    "part_list, left_out_list = partition(books_reviewed_by_users_df.Books_Reviewed.values)"
   ]
  },
  {
   "cell_type": "code",
   "execution_count": 21,
   "metadata": {},
   "outputs": [],
   "source": [
    "books_reviewed_by_users_df.loc[:, 'Books_Reviewed'] = part_list\n",
    "books_reviewed_by_users_df.loc[:, 'Left_Out'] = left_out_list"
   ]
  },
  {
   "cell_type": "markdown",
   "metadata": {},
   "source": [
    "We are also going to extract the reader's rating to the book they've reviewed."
   ]
  },
  {
   "cell_type": "code",
   "execution_count": 22,
   "metadata": {},
   "outputs": [],
   "source": [
    "def book_ratings_for_user(user_id):\n",
    "    ''' Returns a dictionary mapping their rating to the book they reviewed.\n",
    "    '''\n",
    "    reviewed = books_reviewed_by_users_df[books_reviewed_by_users_df.User == user_id].Books_Reviewed.values[0]\n",
    "    selected = readers_data.loc[(readers_data.user_id==user_id) & readers_data.book_id.isin(reviewed),['book_id','rating']]\n",
    "    return selected.set_index('book_id').to_dict()['rating']"
   ]
  },
  {
   "cell_type": "code",
   "execution_count": 23,
   "metadata": {},
   "outputs": [],
   "source": [
    "books_reviewed_by_users_df.loc[:, 'Books_Rating'] = books_reviewed_by_users_df.User.map(book_ratings_for_user)"
   ]
  },
  {
   "cell_type": "code",
   "execution_count": 24,
   "metadata": {},
   "outputs": [
    {
     "data": {
      "text/html": [
       "<div>\n",
       "<style scoped>\n",
       "    .dataframe tbody tr th:only-of-type {\n",
       "        vertical-align: middle;\n",
       "    }\n",
       "\n",
       "    .dataframe tbody tr th {\n",
       "        vertical-align: top;\n",
       "    }\n",
       "\n",
       "    .dataframe thead th {\n",
       "        text-align: right;\n",
       "    }\n",
       "</style>\n",
       "<table border=\"1\" class=\"dataframe\">\n",
       "  <thead>\n",
       "    <tr style=\"text-align: right;\">\n",
       "      <th></th>\n",
       "      <th>User</th>\n",
       "      <th>Books_Reviewed</th>\n",
       "      <th>Left_Out</th>\n",
       "      <th>Books_Rating</th>\n",
       "    </tr>\n",
       "  </thead>\n",
       "  <tbody>\n",
       "    <tr>\n",
       "      <th>0</th>\n",
       "      <td>4</td>\n",
       "      <td>{7, 264, 492, 54, 344, 1210, 575}</td>\n",
       "      <td>401</td>\n",
       "      <td>{264: 3, 575: 3, 492: 4, 1210: 5, 344: 3, 54: 4, 7: 4}</td>\n",
       "    </tr>\n",
       "    <tr>\n",
       "      <th>1</th>\n",
       "      <td>1</td>\n",
       "      <td>{1796, 3638, 54, 1176}</td>\n",
       "      <td>6665</td>\n",
       "      <td>{3638: 3, 1796: 5, 1176: 4, 54: 3}</td>\n",
       "    </tr>\n",
       "    <tr>\n",
       "      <th>2</th>\n",
       "      <td>9</td>\n",
       "      <td>{1923, 264, 238, 52, 344, 56, 795}</td>\n",
       "      <td>3</td>\n",
       "      <td>{344: 4, 1923: 4, 238: 3, 795: 4, 264: 4, 52: 4, 56: 5}</td>\n",
       "    </tr>\n",
       "    <tr>\n",
       "      <th>3</th>\n",
       "      <td>15</td>\n",
       "      <td>{3, 2661, 1993, 1645, 1042, 52, 310, 344, 795, 7260}</td>\n",
       "      <td>1381</td>\n",
       "      <td>{310: 5, 795: 5, 1993: 5, 7260: 4, 344: 4, 1042: 4, 3: 5, 52: 5, 2661: 4, 1645: 4}</td>\n",
       "    </tr>\n",
       "    <tr>\n",
       "      <th>4</th>\n",
       "      <td>18</td>\n",
       "      <td>{1153, 1923, 7, 3883, 2923, 4979, 534, 3254, 344, 1176}</td>\n",
       "      <td>743</td>\n",
       "      <td>{344: 4, 1923: 4, 1176: 3, 7: 5, 1153: 4, 2923: 4, 3883: 3, 4979: 3, 3254: 3, 534: 4}</td>\n",
       "    </tr>\n",
       "  </tbody>\n",
       "</table>\n",
       "</div>"
      ],
      "text/plain": [
       "   User                                           Books_Reviewed  Left_Out  \\\n",
       "0     4                        {7, 264, 492, 54, 344, 1210, 575}       401   \n",
       "1     1                                   {1796, 3638, 54, 1176}      6665   \n",
       "2     9                       {1923, 264, 238, 52, 344, 56, 795}         3   \n",
       "3    15     {3, 2661, 1993, 1645, 1042, 52, 310, 344, 795, 7260}      1381   \n",
       "4    18  {1153, 1923, 7, 3883, 2923, 4979, 534, 3254, 344, 1176}       743   \n",
       "\n",
       "                                                                            Books_Rating  \n",
       "0                                 {264: 3, 575: 3, 492: 4, 1210: 5, 344: 3, 54: 4, 7: 4}  \n",
       "1                                                     {3638: 3, 1796: 5, 1176: 4, 54: 3}  \n",
       "2                                {344: 4, 1923: 4, 238: 3, 795: 4, 264: 4, 52: 4, 56: 5}  \n",
       "3     {310: 5, 795: 5, 1993: 5, 7260: 4, 344: 4, 1042: 4, 3: 5, 52: 5, 2661: 4, 1645: 4}  \n",
       "4  {344: 4, 1923: 4, 1176: 3, 7: 5, 1153: 4, 2923: 4, 3883: 3, 4979: 3, 3254: 3, 534: 4}  "
      ]
     },
     "execution_count": 24,
     "metadata": {},
     "output_type": "execute_result"
    }
   ],
   "source": [
    "books_reviewed_by_users_df.head(n=5)"
   ]
  },
  {
   "cell_type": "markdown",
   "metadata": {},
   "source": [
    "# Make Recommendations"
   ]
  },
  {
   "cell_type": "markdown",
   "metadata": {},
   "source": [
    "Now, we're going to use the reader's book list, and their rating of the books they reviewed to get recommendations."
   ]
  },
  {
   "cell_type": "code",
   "execution_count": 25,
   "metadata": {
    "scrolled": false
   },
   "outputs": [
    {
     "name": "stdout",
     "output_type": "stream",
     "text": [
      "CPU times: user 2min 40s, sys: 202 ms, total: 2min 40s\n",
      "Wall time: 2min 40s\n"
     ]
    }
   ],
   "source": [
    "%%time\n",
    "recommended_books_with_scores = book_recommender.recommend(books_reviewed_by_users_df.User.values,\n",
    "                                                           books_reviewed_by_users_df.Books_Reviewed.values,\n",
    "                                                           books_reviewed_by_users_df.Books_Rating.values)"
   ]
  },
  {
   "cell_type": "markdown",
   "metadata": {},
   "source": [
    "The list returned contains sorted ordered dictionary in descending order of each book's score for each reader. Below, we are also going to extract just the book id's."
   ]
  },
  {
   "cell_type": "code",
   "execution_count": 26,
   "metadata": {},
   "outputs": [],
   "source": [
    "recommended_books = [list(recommended.keys()) for recommended in recommended_books_with_scores]"
   ]
  },
  {
   "cell_type": "markdown",
   "metadata": {},
   "source": [
    "# Hit Rate Evaluation"
   ]
  },
  {
   "cell_type": "markdown",
   "metadata": {},
   "source": [
    "Here, we are evaluating the hit rate, where a hit is counted as 1 if the left out book from the reader's original reviewed list is present in the recommended list."
   ]
  },
  {
   "cell_type": "code",
   "execution_count": 27,
   "metadata": {},
   "outputs": [
    {
     "data": {
      "text/plain": [
       "0.7555555555555555"
      ]
     },
     "execution_count": 27,
     "metadata": {},
     "output_type": "execute_result"
    }
   ],
   "source": [
    "hrate = hit_rate(recommended_books, books_reviewed_by_users_df.Left_Out.values)\n",
    "hrate"
   ]
  },
  {
   "cell_type": "markdown",
   "metadata": {},
   "source": [
    "# Recommended Books Detail"
   ]
  },
  {
   "cell_type": "markdown",
   "metadata": {},
   "source": [
    "The method `top_recommendation_by_user` below extracts the Top-N recommendation for users. The `get_top_recommendation` further manipulates the scores to discourage author repetition."
   ]
  },
  {
   "cell_type": "code",
   "execution_count": 28,
   "metadata": {},
   "outputs": [],
   "source": [
    "books_reviewed_by_users_df.loc[:, 'Recommended_Books'] = recommended_books_with_scores"
   ]
  },
  {
   "cell_type": "code",
   "execution_count": 29,
   "metadata": {},
   "outputs": [],
   "source": [
    "def top_recommendation_by_user(user_id, k=10):\n",
    "    '''Top-K recommendation for the user.\n",
    "    \n",
    "    Args:\n",
    "    ----\n",
    "    user_id: user id of the reader.\n",
    "    k: limit on the number of the recommended books.\n",
    "    \n",
    "    Returns:\n",
    "    -------\n",
    "    \n",
    "    top_md: The Top-K recommendations which discourages repeated authors.\n",
    "    top_md_original: The Top-K recommendations from the originally returned recommendations.\n",
    "    \n",
    "    '''\n",
    "\n",
    "    books_with_scores =  books_reviewed_by_users_df.loc[books_reviewed_by_users_df.User == user_id, \n",
    "                                            'Recommended_Books'].values[0]\n",
    "\n",
    "    top = book_recommender.get_top_recommendations(books_with_scores, k)\n",
    "\n",
    "    top_md = pd.DataFrame(columns=['book_id', 'title', 'authors', 'average_rating'])\n",
    "    top_md_original = pd.DataFrame(columns=['book_id', 'title', 'authors', 'average_rating'])\n",
    "\n",
    "    for book in top:\n",
    "        top_md = top_md.append(books_data.loc[books_data.book_id == book, \n",
    "                                              ['book_id', 'title', 'authors', 'average_rating']])\n",
    "        \n",
    "    for book in list(books_with_scores.keys())[:k]:\n",
    "        top_md_original = top_md_original.append(books_data.loc[books_data.book_id == book, \n",
    "                                                                ['book_id', 'title', 'authors', 'average_rating']])\n",
    "\n",
    "    return top_md, top_md_original"
   ]
  },
  {
   "cell_type": "markdown",
   "metadata": {},
   "source": [
    "Displaying the test readers again for easy user selection"
   ]
  },
  {
   "cell_type": "code",
   "execution_count": 30,
   "metadata": {},
   "outputs": [
    {
     "data": {
      "text/plain": [
       "array([  4,   1,   9,  15,  18,  22,  32,  34,  40,  31,  55,  65,  70,\n",
       "        72,  73,  75,  76,  61,  54,  78,  89,  93,  26,  29, 103, 105,\n",
       "       108, 112, 113, 115, 116, 125, 126, 137, 135, 124, 142, 149, 156,\n",
       "         8, 130, 158, 167, 169, 177, 175, 178, 171, 185, 184, 183, 168,\n",
       "       106, 195, 143, 199, 179,  10, 203, 204, 207, 214, 206, 220, 212,\n",
       "       228, 229, 232, 233, 237, 239, 240, 245, 246, 242, 250, 248, 257,\n",
       "       247, 258, 162, 263, 264, 265, 274, 278, 283, 276, 286, 287])"
      ]
     },
     "execution_count": 30,
     "metadata": {},
     "output_type": "execute_result"
    }
   ],
   "source": [
    "books_reviewed_by_users_df.User.unique()"
   ]
  },
  {
   "cell_type": "markdown",
   "metadata": {},
   "source": [
    "Table below shows the original list by the selected user."
   ]
  },
  {
   "cell_type": "code",
   "execution_count": 31,
   "metadata": {},
   "outputs": [],
   "source": [
    "sel_user = 220"
   ]
  },
  {
   "cell_type": "code",
   "execution_count": 32,
   "metadata": {},
   "outputs": [],
   "source": [
    "select_user_books = readers_data[(readers_data.user_id == sel_user) \n",
    "                                 & (readers_data.book_id.isin(books_available)) \n",
    "                                ].book_id.values"
   ]
  },
  {
   "cell_type": "code",
   "execution_count": 33,
   "metadata": {},
   "outputs": [
    {
     "data": {
      "text/html": [
       "<div>\n",
       "<style scoped>\n",
       "    .dataframe tbody tr th:only-of-type {\n",
       "        vertical-align: middle;\n",
       "    }\n",
       "\n",
       "    .dataframe tbody tr th {\n",
       "        vertical-align: top;\n",
       "    }\n",
       "\n",
       "    .dataframe thead th {\n",
       "        text-align: right;\n",
       "    }\n",
       "</style>\n",
       "<table border=\"1\" class=\"dataframe\">\n",
       "  <thead>\n",
       "    <tr style=\"text-align: right;\">\n",
       "      <th></th>\n",
       "      <th>book_id</th>\n",
       "      <th>title</th>\n",
       "      <th>authors</th>\n",
       "      <th>average_rating</th>\n",
       "    </tr>\n",
       "  </thead>\n",
       "  <tbody>\n",
       "    <tr>\n",
       "      <th>6</th>\n",
       "      <td>7</td>\n",
       "      <td>The Hobbit</td>\n",
       "      <td>J.R.R. Tolkien</td>\n",
       "      <td>4.25</td>\n",
       "    </tr>\n",
       "    <tr>\n",
       "      <th>192</th>\n",
       "      <td>193</td>\n",
       "      <td>Outliers: The Story of Success</td>\n",
       "      <td>Malcolm Gladwell</td>\n",
       "      <td>4.11</td>\n",
       "    </tr>\n",
       "    <tr>\n",
       "      <th>210</th>\n",
       "      <td>211</td>\n",
       "      <td>Blink: The Power of Thinking Without Thinking</td>\n",
       "      <td>Malcolm Gladwell</td>\n",
       "      <td>3.89</td>\n",
       "    </tr>\n",
       "    <tr>\n",
       "      <th>343</th>\n",
       "      <td>344</td>\n",
       "      <td>Naked</td>\n",
       "      <td>David Sedaris</td>\n",
       "      <td>4.08</td>\n",
       "    </tr>\n",
       "    <tr>\n",
       "      <th>491</th>\n",
       "      <td>492</td>\n",
       "      <td>Speaker for the Dead (Ender's Saga, #2)</td>\n",
       "      <td>Orson Scott Card</td>\n",
       "      <td>4.04</td>\n",
       "    </tr>\n",
       "    <tr>\n",
       "      <th>574</th>\n",
       "      <td>575</td>\n",
       "      <td>Timeline</td>\n",
       "      <td>Michael Crichton</td>\n",
       "      <td>3.83</td>\n",
       "    </tr>\n",
       "    <tr>\n",
       "      <th>950</th>\n",
       "      <td>951</td>\n",
       "      <td>Survivor</td>\n",
       "      <td>Chuck Palahniuk</td>\n",
       "      <td>3.93</td>\n",
       "    </tr>\n",
       "    <tr>\n",
       "      <th>1391</th>\n",
       "      <td>1392</td>\n",
       "      <td>Sex, Drugs, and Cocoa Puffs: A Low Culture Manifesto</td>\n",
       "      <td>Chuck Klosterman</td>\n",
       "      <td>3.75</td>\n",
       "    </tr>\n",
       "    <tr>\n",
       "      <th>1644</th>\n",
       "      <td>1645</td>\n",
       "      <td>Rant</td>\n",
       "      <td>Chuck Palahniuk</td>\n",
       "      <td>3.82</td>\n",
       "    </tr>\n",
       "    <tr>\n",
       "      <th>1808</th>\n",
       "      <td>1809</td>\n",
       "      <td>Mossflower (Redwall, #2)</td>\n",
       "      <td>Brian Jacques</td>\n",
       "      <td>4.09</td>\n",
       "    </tr>\n",
       "    <tr>\n",
       "      <th>3892</th>\n",
       "      <td>3893</td>\n",
       "      <td>Shakespeare: The World as Stage</td>\n",
       "      <td>Bill Bryson</td>\n",
       "      <td>3.79</td>\n",
       "    </tr>\n",
       "  </tbody>\n",
       "</table>\n",
       "</div>"
      ],
      "text/plain": [
       "      book_id                                                 title  \\\n",
       "6           7                                            The Hobbit   \n",
       "192       193                        Outliers: The Story of Success   \n",
       "210       211         Blink: The Power of Thinking Without Thinking   \n",
       "343       344                                                 Naked   \n",
       "491       492               Speaker for the Dead (Ender's Saga, #2)   \n",
       "574       575                                              Timeline   \n",
       "950       951                                              Survivor   \n",
       "1391     1392  Sex, Drugs, and Cocoa Puffs: A Low Culture Manifesto   \n",
       "1644     1645                                                  Rant   \n",
       "1808     1809                              Mossflower (Redwall, #2)   \n",
       "3892     3893                       Shakespeare: The World as Stage   \n",
       "\n",
       "               authors  average_rating  \n",
       "6       J.R.R. Tolkien            4.25  \n",
       "192   Malcolm Gladwell            4.11  \n",
       "210   Malcolm Gladwell            3.89  \n",
       "343      David Sedaris            4.08  \n",
       "491   Orson Scott Card            4.04  \n",
       "574   Michael Crichton            3.83  \n",
       "950    Chuck Palahniuk            3.93  \n",
       "1391  Chuck Klosterman            3.75  \n",
       "1644   Chuck Palahniuk            3.82  \n",
       "1808     Brian Jacques            4.09  \n",
       "3892       Bill Bryson            3.79  "
      ]
     },
     "execution_count": 33,
     "metadata": {},
     "output_type": "execute_result"
    }
   ],
   "source": [
    "books_data.loc[books_data.book_id.isin(select_user_books), ['book_id', 'title', 'authors', 'average_rating']]"
   ]
  },
  {
   "cell_type": "markdown",
   "metadata": {},
   "source": [
    "The two tables below shows the Top-N books for the selected user. The first table discourage author while the second displays the N books from the recommendations ordered by score as it is."
   ]
  },
  {
   "cell_type": "code",
   "execution_count": 36,
   "metadata": {
    "scrolled": false
   },
   "outputs": [
    {
     "data": {
      "text/html": [
       "<div>\n",
       "<style scoped>\n",
       "    .dataframe tbody tr th:only-of-type {\n",
       "        vertical-align: middle;\n",
       "    }\n",
       "\n",
       "    .dataframe tbody tr th {\n",
       "        vertical-align: top;\n",
       "    }\n",
       "\n",
       "    .dataframe thead th {\n",
       "        text-align: right;\n",
       "    }\n",
       "</style>\n",
       "<table border=\"1\" class=\"dataframe\">\n",
       "  <thead>\n",
       "    <tr style=\"text-align: right;\">\n",
       "      <th></th>\n",
       "      <th>book_id</th>\n",
       "      <th>title</th>\n",
       "      <th>authors</th>\n",
       "      <th>average_rating</th>\n",
       "    </tr>\n",
       "  </thead>\n",
       "  <tbody>\n",
       "    <tr>\n",
       "      <th>533</th>\n",
       "      <td>534</td>\n",
       "      <td>When You Are Engulfed in Flames</td>\n",
       "      <td>David Sedaris</td>\n",
       "      <td>4.04</td>\n",
       "    </tr>\n",
       "    <tr>\n",
       "      <th>2899</th>\n",
       "      <td>2900</td>\n",
       "      <td>Ender in Exile (Ender's Saga, #1.2)</td>\n",
       "      <td>Orson Scott Card</td>\n",
       "      <td>3.89</td>\n",
       "    </tr>\n",
       "    <tr>\n",
       "      <th>1645</th>\n",
       "      <td>1646</td>\n",
       "      <td>Shadow of the Hegemon (Ender's Shadow, #2)</td>\n",
       "      <td>Orson Scott Card</td>\n",
       "      <td>3.93</td>\n",
       "    </tr>\n",
       "    <tr>\n",
       "      <th>2375</th>\n",
       "      <td>2376</td>\n",
       "      <td>Lord Brocktree (Redwall, #13)</td>\n",
       "      <td>Brian Jacques</td>\n",
       "      <td>3.95</td>\n",
       "    </tr>\n",
       "    <tr>\n",
       "      <th>2010</th>\n",
       "      <td>2011</td>\n",
       "      <td>Snuff</td>\n",
       "      <td>Chuck Palahniuk</td>\n",
       "      <td>3.18</td>\n",
       "    </tr>\n",
       "    <tr>\n",
       "      <th>2197</th>\n",
       "      <td>2198</td>\n",
       "      <td>Queen of Sorcery (The Belgariad, #2)</td>\n",
       "      <td>David Eddings</td>\n",
       "      <td>4.13</td>\n",
       "    </tr>\n",
       "    <tr>\n",
       "      <th>106</th>\n",
       "      <td>107</td>\n",
       "      <td>A Walk to Remember</td>\n",
       "      <td>Nicholas Sparks</td>\n",
       "      <td>4.15</td>\n",
       "    </tr>\n",
       "    <tr>\n",
       "      <th>1922</th>\n",
       "      <td>1923</td>\n",
       "      <td>Barrel Fever: Stories and Essays</td>\n",
       "      <td>David Sedaris</td>\n",
       "      <td>3.78</td>\n",
       "    </tr>\n",
       "    <tr>\n",
       "      <th>7382</th>\n",
       "      <td>7383</td>\n",
       "      <td>Outcast of Redwall (Redwall, #8)</td>\n",
       "      <td>Brian Jacques</td>\n",
       "      <td>3.90</td>\n",
       "    </tr>\n",
       "    <tr>\n",
       "      <th>210</th>\n",
       "      <td>211</td>\n",
       "      <td>Blink: The Power of Thinking Without Thinking</td>\n",
       "      <td>Malcolm Gladwell</td>\n",
       "      <td>3.89</td>\n",
       "    </tr>\n",
       "    <tr>\n",
       "      <th>1726</th>\n",
       "      <td>1727</td>\n",
       "      <td>The Long Dark Tea-Time of the Soul (Dirk Gently, #2)</td>\n",
       "      <td>Douglas Adams</td>\n",
       "      <td>4.05</td>\n",
       "    </tr>\n",
       "    <tr>\n",
       "      <th>5287</th>\n",
       "      <td>5288</td>\n",
       "      <td>The Lost Gate (Mither Mages, #1)</td>\n",
       "      <td>Orson Scott Card</td>\n",
       "      <td>3.82</td>\n",
       "    </tr>\n",
       "    <tr>\n",
       "      <th>4265</th>\n",
       "      <td>4266</td>\n",
       "      <td>Startide Rising (The Uplift Saga, #2)</td>\n",
       "      <td>David Brin</td>\n",
       "      <td>4.04</td>\n",
       "    </tr>\n",
       "    <tr>\n",
       "      <th>9642</th>\n",
       "      <td>9643</td>\n",
       "      <td>The Gate Thief (Mither Mages, #2)</td>\n",
       "      <td>Orson Scott Card</td>\n",
       "      <td>3.77</td>\n",
       "    </tr>\n",
       "    <tr>\n",
       "      <th>6317</th>\n",
       "      <td>6318</td>\n",
       "      <td>The Cat Who Walks Through Walls (The World As Myth)</td>\n",
       "      <td>Robert A. Heinlein</td>\n",
       "      <td>3.70</td>\n",
       "    </tr>\n",
       "  </tbody>\n",
       "</table>\n",
       "</div>"
      ],
      "text/plain": [
       "     book_id                                                 title  \\\n",
       "533      534                       When You Are Engulfed in Flames   \n",
       "2899    2900                   Ender in Exile (Ender's Saga, #1.2)   \n",
       "1645    1646            Shadow of the Hegemon (Ender's Shadow, #2)   \n",
       "2375    2376                         Lord Brocktree (Redwall, #13)   \n",
       "2010    2011                                                 Snuff   \n",
       "2197    2198                  Queen of Sorcery (The Belgariad, #2)   \n",
       "106      107                                    A Walk to Remember   \n",
       "1922    1923                      Barrel Fever: Stories and Essays   \n",
       "7382    7383                      Outcast of Redwall (Redwall, #8)   \n",
       "210      211         Blink: The Power of Thinking Without Thinking   \n",
       "1726    1727  The Long Dark Tea-Time of the Soul (Dirk Gently, #2)   \n",
       "5287    5288                      The Lost Gate (Mither Mages, #1)   \n",
       "4265    4266                 Startide Rising (The Uplift Saga, #2)   \n",
       "9642    9643                     The Gate Thief (Mither Mages, #2)   \n",
       "6317    6318   The Cat Who Walks Through Walls (The World As Myth)   \n",
       "\n",
       "                 authors  average_rating  \n",
       "533        David Sedaris            4.04  \n",
       "2899    Orson Scott Card            3.89  \n",
       "1645    Orson Scott Card            3.93  \n",
       "2375       Brian Jacques            3.95  \n",
       "2010     Chuck Palahniuk            3.18  \n",
       "2197       David Eddings            4.13  \n",
       "106      Nicholas Sparks            4.15  \n",
       "1922       David Sedaris            3.78  \n",
       "7382       Brian Jacques            3.90  \n",
       "210     Malcolm Gladwell            3.89  \n",
       "1726       Douglas Adams            4.05  \n",
       "5287    Orson Scott Card            3.82  \n",
       "4265          David Brin            4.04  \n",
       "9642    Orson Scott Card            3.77  \n",
       "6317  Robert A. Heinlein            3.70  "
      ]
     },
     "metadata": {},
     "output_type": "display_data"
    },
    {
     "data": {
      "text/html": [
       "<div>\n",
       "<style scoped>\n",
       "    .dataframe tbody tr th:only-of-type {\n",
       "        vertical-align: middle;\n",
       "    }\n",
       "\n",
       "    .dataframe tbody tr th {\n",
       "        vertical-align: top;\n",
       "    }\n",
       "\n",
       "    .dataframe thead th {\n",
       "        text-align: right;\n",
       "    }\n",
       "</style>\n",
       "<table border=\"1\" class=\"dataframe\">\n",
       "  <thead>\n",
       "    <tr style=\"text-align: right;\">\n",
       "      <th></th>\n",
       "      <th>book_id</th>\n",
       "      <th>title</th>\n",
       "      <th>authors</th>\n",
       "      <th>average_rating</th>\n",
       "    </tr>\n",
       "  </thead>\n",
       "  <tbody>\n",
       "    <tr>\n",
       "      <th>533</th>\n",
       "      <td>534</td>\n",
       "      <td>When You Are Engulfed in Flames</td>\n",
       "      <td>David Sedaris</td>\n",
       "      <td>4.04</td>\n",
       "    </tr>\n",
       "    <tr>\n",
       "      <th>2899</th>\n",
       "      <td>2900</td>\n",
       "      <td>Ender in Exile (Ender's Saga, #1.2)</td>\n",
       "      <td>Orson Scott Card</td>\n",
       "      <td>3.89</td>\n",
       "    </tr>\n",
       "    <tr>\n",
       "      <th>1645</th>\n",
       "      <td>1646</td>\n",
       "      <td>Shadow of the Hegemon (Ender's Shadow, #2)</td>\n",
       "      <td>Orson Scott Card</td>\n",
       "      <td>3.93</td>\n",
       "    </tr>\n",
       "    <tr>\n",
       "      <th>1922</th>\n",
       "      <td>1923</td>\n",
       "      <td>Barrel Fever: Stories and Essays</td>\n",
       "      <td>David Sedaris</td>\n",
       "      <td>3.78</td>\n",
       "    </tr>\n",
       "    <tr>\n",
       "      <th>2010</th>\n",
       "      <td>2011</td>\n",
       "      <td>Snuff</td>\n",
       "      <td>Chuck Palahniuk</td>\n",
       "      <td>3.18</td>\n",
       "    </tr>\n",
       "    <tr>\n",
       "      <th>5287</th>\n",
       "      <td>5288</td>\n",
       "      <td>The Lost Gate (Mither Mages, #1)</td>\n",
       "      <td>Orson Scott Card</td>\n",
       "      <td>3.82</td>\n",
       "    </tr>\n",
       "    <tr>\n",
       "      <th>9642</th>\n",
       "      <td>9643</td>\n",
       "      <td>The Gate Thief (Mither Mages, #2)</td>\n",
       "      <td>Orson Scott Card</td>\n",
       "      <td>3.77</td>\n",
       "    </tr>\n",
       "    <tr>\n",
       "      <th>2375</th>\n",
       "      <td>2376</td>\n",
       "      <td>Lord Brocktree (Redwall, #13)</td>\n",
       "      <td>Brian Jacques</td>\n",
       "      <td>3.95</td>\n",
       "    </tr>\n",
       "    <tr>\n",
       "      <th>7382</th>\n",
       "      <td>7383</td>\n",
       "      <td>Outcast of Redwall (Redwall, #8)</td>\n",
       "      <td>Brian Jacques</td>\n",
       "      <td>3.90</td>\n",
       "    </tr>\n",
       "    <tr>\n",
       "      <th>210</th>\n",
       "      <td>211</td>\n",
       "      <td>Blink: The Power of Thinking Without Thinking</td>\n",
       "      <td>Malcolm Gladwell</td>\n",
       "      <td>3.89</td>\n",
       "    </tr>\n",
       "    <tr>\n",
       "      <th>8412</th>\n",
       "      <td>8413</td>\n",
       "      <td>Alvin Journeyman (Tales of Alvin Maker, #4)</td>\n",
       "      <td>Orson Scott Card</td>\n",
       "      <td>3.72</td>\n",
       "    </tr>\n",
       "    <tr>\n",
       "      <th>6700</th>\n",
       "      <td>6701</td>\n",
       "      <td>Red Prophet (Tales of Alvin Maker, #2)</td>\n",
       "      <td>Orson Scott Card</td>\n",
       "      <td>3.78</td>\n",
       "    </tr>\n",
       "    <tr>\n",
       "      <th>8943</th>\n",
       "      <td>8944</td>\n",
       "      <td>Pastwatch: The Redemption of Christopher Columbus</td>\n",
       "      <td>Orson Scott Card</td>\n",
       "      <td>3.96</td>\n",
       "    </tr>\n",
       "    <tr>\n",
       "      <th>7489</th>\n",
       "      <td>7490</td>\n",
       "      <td>Prentice Alvin (Tales of Alvin Maker, #3)</td>\n",
       "      <td>Orson Scott Card</td>\n",
       "      <td>3.77</td>\n",
       "    </tr>\n",
       "    <tr>\n",
       "      <th>9722</th>\n",
       "      <td>9723</td>\n",
       "      <td>A War of Gifts (Ender's Saga, #1.1)</td>\n",
       "      <td>Orson Scott Card</td>\n",
       "      <td>3.66</td>\n",
       "    </tr>\n",
       "  </tbody>\n",
       "</table>\n",
       "</div>"
      ],
      "text/plain": [
       "     book_id                                              title  \\\n",
       "533      534                    When You Are Engulfed in Flames   \n",
       "2899    2900                Ender in Exile (Ender's Saga, #1.2)   \n",
       "1645    1646         Shadow of the Hegemon (Ender's Shadow, #2)   \n",
       "1922    1923                   Barrel Fever: Stories and Essays   \n",
       "2010    2011                                              Snuff   \n",
       "5287    5288                   The Lost Gate (Mither Mages, #1)   \n",
       "9642    9643                  The Gate Thief (Mither Mages, #2)   \n",
       "2375    2376                      Lord Brocktree (Redwall, #13)   \n",
       "7382    7383                   Outcast of Redwall (Redwall, #8)   \n",
       "210      211      Blink: The Power of Thinking Without Thinking   \n",
       "8412    8413        Alvin Journeyman (Tales of Alvin Maker, #4)   \n",
       "6700    6701             Red Prophet (Tales of Alvin Maker, #2)   \n",
       "8943    8944  Pastwatch: The Redemption of Christopher Columbus   \n",
       "7489    7490          Prentice Alvin (Tales of Alvin Maker, #3)   \n",
       "9722    9723                A War of Gifts (Ender's Saga, #1.1)   \n",
       "\n",
       "               authors  average_rating  \n",
       "533      David Sedaris            4.04  \n",
       "2899  Orson Scott Card            3.89  \n",
       "1645  Orson Scott Card            3.93  \n",
       "1922     David Sedaris            3.78  \n",
       "2010   Chuck Palahniuk            3.18  \n",
       "5287  Orson Scott Card            3.82  \n",
       "9642  Orson Scott Card            3.77  \n",
       "2375     Brian Jacques            3.95  \n",
       "7382     Brian Jacques            3.90  \n",
       "210   Malcolm Gladwell            3.89  \n",
       "8412  Orson Scott Card            3.72  \n",
       "6700  Orson Scott Card            3.78  \n",
       "8943  Orson Scott Card            3.96  \n",
       "7489  Orson Scott Card            3.77  \n",
       "9722  Orson Scott Card            3.66  "
      ]
     },
     "metadata": {},
     "output_type": "display_data"
    }
   ],
   "source": [
    "top_md, top_md_original = top_recommendation_by_user(sel_user, 200)\n",
    "display(top_md.head(n=15))\n",
    "display(top_md_original.head(n=15))"
   ]
  },
  {
   "cell_type": "markdown",
   "metadata": {},
   "source": [
    "The first table is a little more diverse with respect to authors compared to the second table."
   ]
  }
 ],
 "metadata": {
  "kernelspec": {
   "display_name": "Python 3",
   "language": "python",
   "name": "python3"
  },
  "language_info": {
   "codemirror_mode": {
    "name": "ipython",
    "version": 3
   },
   "file_extension": ".py",
   "mimetype": "text/x-python",
   "name": "python",
   "nbconvert_exporter": "python",
   "pygments_lexer": "ipython3",
   "version": "3.8.5"
  }
 },
 "nbformat": 4,
 "nbformat_minor": 2
}
