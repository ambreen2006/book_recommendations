{
 "cells": [
  {
   "cell_type": "code",
   "execution_count": 1,
   "metadata": {},
   "outputs": [],
   "source": [
    "import numpy as np\n",
    "import pandas as pd\n",
    "\n",
    "from data_loader import BooksDataLoader\n",
    "from book_recommender import BookRecommender\n",
    "from book_recommender import partition\n",
    "from book_recommender import hit_rate"
   ]
  },
  {
   "cell_type": "code",
   "execution_count": 2,
   "metadata": {},
   "outputs": [],
   "source": [
    "books_data_loader = BooksDataLoader()\n",
    "\n",
    "readers_data = books_data_loader.get_readers_data()\n",
    "books_data = books_data_loader.get_books_data()\n",
    "books_meta_data = books_data_loader.get_books_meta_data()"
   ]
  },
  {
   "cell_type": "code",
   "execution_count": 3,
   "metadata": {},
   "outputs": [],
   "source": [
    "book_recommender = BookRecommender()"
   ]
  },
  {
   "cell_type": "code",
   "execution_count": 4,
   "metadata": {},
   "outputs": [
    {
     "data": {
      "text/html": [
       "<div>\n",
       "<style scoped>\n",
       "    .dataframe tbody tr th:only-of-type {\n",
       "        vertical-align: middle;\n",
       "    }\n",
       "\n",
       "    .dataframe tbody tr th {\n",
       "        vertical-align: top;\n",
       "    }\n",
       "\n",
       "    .dataframe thead th {\n",
       "        text-align: right;\n",
       "    }\n",
       "</style>\n",
       "<table border=\"1\" class=\"dataframe\">\n",
       "  <thead>\n",
       "    <tr style=\"text-align: right;\">\n",
       "      <th></th>\n",
       "      <th>user_id</th>\n",
       "      <th>book_id</th>\n",
       "      <th>rating</th>\n",
       "    </tr>\n",
       "  </thead>\n",
       "  <tbody>\n",
       "    <tr>\n",
       "      <td>0</td>\n",
       "      <td>1</td>\n",
       "      <td>258</td>\n",
       "      <td>5</td>\n",
       "    </tr>\n",
       "    <tr>\n",
       "      <td>1</td>\n",
       "      <td>2</td>\n",
       "      <td>4081</td>\n",
       "      <td>4</td>\n",
       "    </tr>\n",
       "    <tr>\n",
       "      <td>2</td>\n",
       "      <td>2</td>\n",
       "      <td>260</td>\n",
       "      <td>5</td>\n",
       "    </tr>\n",
       "    <tr>\n",
       "      <td>3</td>\n",
       "      <td>2</td>\n",
       "      <td>9296</td>\n",
       "      <td>5</td>\n",
       "    </tr>\n",
       "    <tr>\n",
       "      <td>4</td>\n",
       "      <td>2</td>\n",
       "      <td>2318</td>\n",
       "      <td>3</td>\n",
       "    </tr>\n",
       "  </tbody>\n",
       "</table>\n",
       "</div>"
      ],
      "text/plain": [
       "   user_id  book_id  rating\n",
       "0        1      258       5\n",
       "1        2     4081       4\n",
       "2        2      260       5\n",
       "3        2     9296       5\n",
       "4        2     2318       3"
      ]
     },
     "execution_count": 4,
     "metadata": {},
     "output_type": "execute_result"
    }
   ],
   "source": [
    "readers_data.head()"
   ]
  },
  {
   "cell_type": "code",
   "execution_count": 5,
   "metadata": {},
   "outputs": [],
   "source": [
    "#books_meta_data = books_meta_data.set_index('book_id').join(books_data.set_index('book_id'))"
   ]
  },
  {
   "cell_type": "code",
   "execution_count": 6,
   "metadata": {},
   "outputs": [],
   "source": [
    "books_available = set(map(int, book_recommender.books_available()))"
   ]
  },
  {
   "cell_type": "code",
   "execution_count": 34,
   "metadata": {},
   "outputs": [],
   "source": [
    "selected_user_list = readers_data[readers_data.book_id.isin(books_available)].user_id.unique().tolist()[:100]"
   ]
  },
  {
   "cell_type": "code",
   "execution_count": 35,
   "metadata": {},
   "outputs": [
    {
     "name": "stdout",
     "output_type": "stream",
     "text": [
      "CPU times: user 1min 54s, sys: 4.53 s, total: 1min 58s\n",
      "Wall time: 14.9 s\n"
     ]
    }
   ],
   "source": [
    "%%time \n",
    "\n",
    "books_reviewed_by_users = []\n",
    "\n",
    "rating_threshold = 3\n",
    "\n",
    "for user in selected_user_list:\n",
    "\n",
    "    reviewed_all =  set(readers_data[readers_data.user_id == user].book_id.values)\n",
    "    reviewed = reviewed_all.intersection(books_available)\n",
    "\n",
    "    # filter out \n",
    "    reviewed = set(book_id for book_id in reviewed\n",
    "                    if (readers_data[(readers_data.user_id == user) \n",
    "                                     & (readers_data.book_id == book_id)].rating >= rating_threshold).any())\n",
    "\n",
    "    if len(reviewed) > 1:\n",
    "        books_reviewed_by_users.append((user, reviewed))"
   ]
  },
  {
   "cell_type": "code",
   "execution_count": 37,
   "metadata": {},
   "outputs": [],
   "source": [
    "books_reviewed_by_users_df = pd.DataFrame(books_reviewed_by_users, columns=['User', 'Books_Reviewed'])"
   ]
  },
  {
   "cell_type": "code",
   "execution_count": 38,
   "metadata": {},
   "outputs": [
    {
     "data": {
      "text/html": [
       "<div>\n",
       "<style scoped>\n",
       "    .dataframe tbody tr th:only-of-type {\n",
       "        vertical-align: middle;\n",
       "    }\n",
       "\n",
       "    .dataframe tbody tr th {\n",
       "        vertical-align: top;\n",
       "    }\n",
       "\n",
       "    .dataframe thead th {\n",
       "        text-align: right;\n",
       "    }\n",
       "</style>\n",
       "<table border=\"1\" class=\"dataframe\">\n",
       "  <thead>\n",
       "    <tr style=\"text-align: right;\">\n",
       "      <th></th>\n",
       "      <th>User</th>\n",
       "      <th>Books_Reviewed</th>\n",
       "    </tr>\n",
       "  </thead>\n",
       "  <tbody>\n",
       "    <tr>\n",
       "      <td>0</td>\n",
       "      <td>4</td>\n",
       "      <td>{7, 264, 492, 401, 54, 344, 1210, 575}</td>\n",
       "    </tr>\n",
       "    <tr>\n",
       "      <td>1</td>\n",
       "      <td>1</td>\n",
       "      <td>{1796, 6665, 3638, 54, 1176}</td>\n",
       "    </tr>\n",
       "    <tr>\n",
       "      <td>2</td>\n",
       "      <td>9</td>\n",
       "      <td>{3, 1923, 264, 238, 52, 344, 56, 795}</td>\n",
       "    </tr>\n",
       "    <tr>\n",
       "      <td>3</td>\n",
       "      <td>15</td>\n",
       "      <td>{3, 1381, 2661, 1993, 1645, 1042, 52, 310, 344...</td>\n",
       "    </tr>\n",
       "    <tr>\n",
       "      <td>4</td>\n",
       "      <td>18</td>\n",
       "      <td>{1153, 1923, 743, 7, 3883, 2923, 4979, 534, 32...</td>\n",
       "    </tr>\n",
       "  </tbody>\n",
       "</table>\n",
       "</div>"
      ],
      "text/plain": [
       "   User                                     Books_Reviewed\n",
       "0     4             {7, 264, 492, 401, 54, 344, 1210, 575}\n",
       "1     1                       {1796, 6665, 3638, 54, 1176}\n",
       "2     9              {3, 1923, 264, 238, 52, 344, 56, 795}\n",
       "3    15  {3, 1381, 2661, 1993, 1645, 1042, 52, 310, 344...\n",
       "4    18  {1153, 1923, 743, 7, 3883, 2923, 4979, 534, 32..."
      ]
     },
     "execution_count": 38,
     "metadata": {},
     "output_type": "execute_result"
    }
   ],
   "source": [
    "books_reviewed_by_users_df.head()"
   ]
  },
  {
   "cell_type": "code",
   "execution_count": 39,
   "metadata": {},
   "outputs": [
    {
     "data": {
      "text/plain": [
       "array([  4,   1,   9,  15,  18,  22,  32,  34,  40,  31,  55,  65,  70,\n",
       "        72,  73,  75,  76,  61,  54,  78,  89,  93,  26,  29, 103, 105,\n",
       "       108, 112, 113, 115, 116, 125, 126, 137, 135, 124, 142, 149, 156,\n",
       "         8, 130, 158, 167, 169, 177, 175, 178, 171, 185, 184, 183, 168,\n",
       "       106, 195, 143, 199, 179,  10, 203, 204, 207, 214, 206, 220, 212,\n",
       "       228, 229, 232, 233, 237, 239, 240, 245, 246, 242, 250, 248, 257,\n",
       "       247, 258, 162, 263, 264, 265, 274, 278, 283, 276, 286, 287])"
      ]
     },
     "execution_count": 39,
     "metadata": {},
     "output_type": "execute_result"
    }
   ],
   "source": [
    "books_reviewed_by_users_df.User.unique()"
   ]
  },
  {
   "cell_type": "code",
   "execution_count": 40,
   "metadata": {},
   "outputs": [
    {
     "data": {
      "text/plain": [
       "{232, 1343, 1657, 2407, 3314}"
      ]
     },
     "execution_count": 40,
     "metadata": {},
     "output_type": "execute_result"
    }
   ],
   "source": [
    "selected_user_index = 7\n",
    "reviewed_books = books_reviewed_by_users_df.iloc[selected_user_index, 1]\n",
    "reviewed_books"
   ]
  },
  {
   "cell_type": "code",
   "execution_count": 41,
   "metadata": {},
   "outputs": [
    {
     "data": {
      "text/plain": [
       "34"
      ]
     },
     "execution_count": 41,
     "metadata": {},
     "output_type": "execute_result"
    }
   ],
   "source": [
    "selected_user_id = books_reviewed_by_users_df.iloc[selected_user_index, 0]\n",
    "selected_user_id"
   ]
  },
  {
   "cell_type": "code",
   "execution_count": 42,
   "metadata": {},
   "outputs": [
    {
     "data": {
      "text/plain": [
       "(90, 2)"
      ]
     },
     "execution_count": 42,
     "metadata": {},
     "output_type": "execute_result"
    }
   ],
   "source": [
    "books_reviewed_by_users_df.shape"
   ]
  },
  {
   "cell_type": "code",
   "execution_count": 43,
   "metadata": {},
   "outputs": [],
   "source": [
    "reviewed_books_sub = books_data.loc[books_data.book_id.isin(reviewed_books), \n",
    "                                    ['book_id','original_title', 'authors', 'average_rating']]\n",
    "reviewed_books_sub = reviewed_books_sub.set_index('book_id')"
   ]
  },
  {
   "cell_type": "code",
   "execution_count": 44,
   "metadata": {},
   "outputs": [
    {
     "data": {
      "text/html": [
       "<div>\n",
       "<style scoped>\n",
       "    .dataframe tbody tr th:only-of-type {\n",
       "        vertical-align: middle;\n",
       "    }\n",
       "\n",
       "    .dataframe tbody tr th {\n",
       "        vertical-align: top;\n",
       "    }\n",
       "\n",
       "    .dataframe thead th {\n",
       "        text-align: right;\n",
       "    }\n",
       "</style>\n",
       "<table border=\"1\" class=\"dataframe\">\n",
       "  <thead>\n",
       "    <tr style=\"text-align: right;\">\n",
       "      <th></th>\n",
       "      <th>original_title</th>\n",
       "      <th>authors</th>\n",
       "      <th>average_rating</th>\n",
       "    </tr>\n",
       "    <tr>\n",
       "      <th>book_id</th>\n",
       "      <th></th>\n",
       "      <th></th>\n",
       "      <th></th>\n",
       "    </tr>\n",
       "  </thead>\n",
       "  <tbody>\n",
       "    <tr>\n",
       "      <td>232</td>\n",
       "      <td>The Gunslinger</td>\n",
       "      <td>Stephen King</td>\n",
       "      <td>3.99</td>\n",
       "    </tr>\n",
       "    <tr>\n",
       "      <td>1343</td>\n",
       "      <td>The Light Fantastic</td>\n",
       "      <td>Terry Pratchett</td>\n",
       "      <td>3.94</td>\n",
       "    </tr>\n",
       "    <tr>\n",
       "      <td>1657</td>\n",
       "      <td>Infinite Jest</td>\n",
       "      <td>David Foster Wallace</td>\n",
       "      <td>4.31</td>\n",
       "    </tr>\n",
       "    <tr>\n",
       "      <td>2407</td>\n",
       "      <td>Princeps' Fury</td>\n",
       "      <td>Jim Butcher</td>\n",
       "      <td>4.35</td>\n",
       "    </tr>\n",
       "    <tr>\n",
       "      <td>3314</td>\n",
       "      <td>Quicksilver</td>\n",
       "      <td>Neal Stephenson</td>\n",
       "      <td>3.92</td>\n",
       "    </tr>\n",
       "  </tbody>\n",
       "</table>\n",
       "</div>"
      ],
      "text/plain": [
       "              original_title               authors  average_rating\n",
       "book_id                                                           \n",
       "232           The Gunslinger          Stephen King            3.99\n",
       "1343     The Light Fantastic       Terry Pratchett            3.94\n",
       "1657           Infinite Jest  David Foster Wallace            4.31\n",
       "2407          Princeps' Fury           Jim Butcher            4.35\n",
       "3314             Quicksilver       Neal Stephenson            3.92"
      ]
     },
     "execution_count": 44,
     "metadata": {},
     "output_type": "execute_result"
    }
   ],
   "source": [
    "reviewed_books_sub"
   ]
  },
  {
   "cell_type": "code",
   "execution_count": 45,
   "metadata": {},
   "outputs": [],
   "source": [
    "pd.set_option('max_colwidth', 200)"
   ]
  },
  {
   "cell_type": "code",
   "execution_count": 46,
   "metadata": {},
   "outputs": [
    {
     "data": {
      "text/html": [
       "<div>\n",
       "<style scoped>\n",
       "    .dataframe tbody tr th:only-of-type {\n",
       "        vertical-align: middle;\n",
       "    }\n",
       "\n",
       "    .dataframe tbody tr th {\n",
       "        vertical-align: top;\n",
       "    }\n",
       "\n",
       "    .dataframe thead th {\n",
       "        text-align: right;\n",
       "    }\n",
       "</style>\n",
       "<table border=\"1\" class=\"dataframe\">\n",
       "  <thead>\n",
       "    <tr style=\"text-align: right;\">\n",
       "      <th></th>\n",
       "      <th>genre</th>\n",
       "      <th>original_title</th>\n",
       "      <th>authors</th>\n",
       "      <th>average_rating</th>\n",
       "    </tr>\n",
       "    <tr>\n",
       "      <th>book_id</th>\n",
       "      <th></th>\n",
       "      <th></th>\n",
       "      <th></th>\n",
       "      <th></th>\n",
       "    </tr>\n",
       "  </thead>\n",
       "  <tbody>\n",
       "    <tr>\n",
       "      <td>232</td>\n",
       "      <td>Fiction / Fantasy / Dark Fantasy Fiction / Thrillers / Supernatural</td>\n",
       "      <td>The Gunslinger</td>\n",
       "      <td>Stephen King</td>\n",
       "      <td>3.99</td>\n",
       "    </tr>\n",
       "    <tr>\n",
       "      <td>2407</td>\n",
       "      <td>Fiction / Fantasy / Action &amp; Adventure Fiction / Fantasy / Epic Fiction / Fantasy / Military</td>\n",
       "      <td>Princeps' Fury</td>\n",
       "      <td>Jim Butcher</td>\n",
       "      <td>4.35</td>\n",
       "    </tr>\n",
       "    <tr>\n",
       "      <td>1343</td>\n",
       "      <td>Fiction / Fantasy / Action &amp; Adventure Fiction / Fantasy / Contemporary Fiction / Fantasy / Humorous</td>\n",
       "      <td>The Light Fantastic</td>\n",
       "      <td>Terry Pratchett</td>\n",
       "      <td>3.94</td>\n",
       "    </tr>\n",
       "    <tr>\n",
       "      <td>1657</td>\n",
       "      <td>Fiction / Classics Fiction / Literary Fiction / Sports</td>\n",
       "      <td>Infinite Jest</td>\n",
       "      <td>David Foster Wallace</td>\n",
       "      <td>4.31</td>\n",
       "    </tr>\n",
       "    <tr>\n",
       "      <td>3314</td>\n",
       "      <td>Fiction / Fantasy / Historical Fiction / Historical / General Fiction / Science Fiction / General</td>\n",
       "      <td>Quicksilver</td>\n",
       "      <td>Neal Stephenson</td>\n",
       "      <td>3.92</td>\n",
       "    </tr>\n",
       "  </tbody>\n",
       "</table>\n",
       "</div>"
      ],
      "text/plain": [
       "                                                                                                         genre  \\\n",
       "book_id                                                                                                          \n",
       "232                                        Fiction / Fantasy / Dark Fantasy Fiction / Thrillers / Supernatural   \n",
       "2407             Fiction / Fantasy / Action & Adventure Fiction / Fantasy / Epic Fiction / Fantasy / Military    \n",
       "1343     Fiction / Fantasy / Action & Adventure Fiction / Fantasy / Contemporary Fiction / Fantasy / Humorous    \n",
       "1657                                                   Fiction / Classics Fiction / Literary Fiction / Sports    \n",
       "3314        Fiction / Fantasy / Historical Fiction / Historical / General Fiction / Science Fiction / General    \n",
       "\n",
       "              original_title               authors  average_rating  \n",
       "book_id                                                             \n",
       "232           The Gunslinger          Stephen King            3.99  \n",
       "2407          Princeps' Fury           Jim Butcher            4.35  \n",
       "1343     The Light Fantastic       Terry Pratchett            3.94  \n",
       "1657           Infinite Jest  David Foster Wallace            4.31  \n",
       "3314             Quicksilver       Neal Stephenson            3.92  "
      ]
     },
     "metadata": {},
     "output_type": "display_data"
    }
   ],
   "source": [
    "display(books_meta_data.loc[books_meta_data.book_id.isin(reviewed_books), \n",
    "                            ['book_id', 'genre']].set_index('book_id').join(reviewed_books_sub))"
   ]
  },
  {
   "cell_type": "markdown",
   "metadata": {},
   "source": [
    "**#TODO Consolidate genres where applicable**\n",
    "\n",
    "Notice that book '7379' has 'Humorous' listed as one of it's genre yet, similarity score is 0.0 with the book '534' even though one of it's genre is 'Humor'. That's for user 28"
   ]
  },
  {
   "cell_type": "markdown",
   "metadata": {},
   "source": [
    "# Partition The Data"
   ]
  },
  {
   "cell_type": "code",
   "execution_count": 47,
   "metadata": {},
   "outputs": [
    {
     "data": {
      "text/html": [
       "<div>\n",
       "<style scoped>\n",
       "    .dataframe tbody tr th:only-of-type {\n",
       "        vertical-align: middle;\n",
       "    }\n",
       "\n",
       "    .dataframe tbody tr th {\n",
       "        vertical-align: top;\n",
       "    }\n",
       "\n",
       "    .dataframe thead th {\n",
       "        text-align: right;\n",
       "    }\n",
       "</style>\n",
       "<table border=\"1\" class=\"dataframe\">\n",
       "  <thead>\n",
       "    <tr style=\"text-align: right;\">\n",
       "      <th></th>\n",
       "      <th>User</th>\n",
       "      <th>Books_Reviewed</th>\n",
       "    </tr>\n",
       "  </thead>\n",
       "  <tbody>\n",
       "    <tr>\n",
       "      <td>0</td>\n",
       "      <td>4</td>\n",
       "      <td>{7, 264, 492, 401, 54, 344, 1210, 575}</td>\n",
       "    </tr>\n",
       "    <tr>\n",
       "      <td>1</td>\n",
       "      <td>1</td>\n",
       "      <td>{1796, 6665, 3638, 54, 1176}</td>\n",
       "    </tr>\n",
       "    <tr>\n",
       "      <td>2</td>\n",
       "      <td>9</td>\n",
       "      <td>{3, 1923, 264, 238, 52, 344, 56, 795}</td>\n",
       "    </tr>\n",
       "    <tr>\n",
       "      <td>3</td>\n",
       "      <td>15</td>\n",
       "      <td>{3, 1381, 2661, 1993, 1645, 1042, 52, 310, 344, 795, 7260}</td>\n",
       "    </tr>\n",
       "    <tr>\n",
       "      <td>4</td>\n",
       "      <td>18</td>\n",
       "      <td>{1153, 1923, 743, 7, 3883, 2923, 4979, 534, 3254, 344, 1176}</td>\n",
       "    </tr>\n",
       "  </tbody>\n",
       "</table>\n",
       "</div>"
      ],
      "text/plain": [
       "   User                                                Books_Reviewed\n",
       "0     4                        {7, 264, 492, 401, 54, 344, 1210, 575}\n",
       "1     1                                  {1796, 6665, 3638, 54, 1176}\n",
       "2     9                         {3, 1923, 264, 238, 52, 344, 56, 795}\n",
       "3    15    {3, 1381, 2661, 1993, 1645, 1042, 52, 310, 344, 795, 7260}\n",
       "4    18  {1153, 1923, 743, 7, 3883, 2923, 4979, 534, 3254, 344, 1176}"
      ]
     },
     "execution_count": 47,
     "metadata": {},
     "output_type": "execute_result"
    }
   ],
   "source": [
    "books_reviewed_by_users_df.head()"
   ]
  },
  {
   "cell_type": "code",
   "execution_count": 48,
   "metadata": {},
   "outputs": [],
   "source": [
    "part_list, left_out_list = partition(books_reviewed_by_users_df.Books_Reviewed.values)"
   ]
  },
  {
   "cell_type": "code",
   "execution_count": 49,
   "metadata": {},
   "outputs": [],
   "source": [
    "books_reviewed_by_users_df.loc[:, 'Books_Reviewed'] = part_list\n",
    "books_reviewed_by_users_df.loc[:, 'Left_Out'] = left_out_list"
   ]
  },
  {
   "cell_type": "code",
   "execution_count": 50,
   "metadata": {},
   "outputs": [
    {
     "data": {
      "text/html": [
       "<div>\n",
       "<style scoped>\n",
       "    .dataframe tbody tr th:only-of-type {\n",
       "        vertical-align: middle;\n",
       "    }\n",
       "\n",
       "    .dataframe tbody tr th {\n",
       "        vertical-align: top;\n",
       "    }\n",
       "\n",
       "    .dataframe thead th {\n",
       "        text-align: right;\n",
       "    }\n",
       "</style>\n",
       "<table border=\"1\" class=\"dataframe\">\n",
       "  <thead>\n",
       "    <tr style=\"text-align: right;\">\n",
       "      <th></th>\n",
       "      <th>User</th>\n",
       "      <th>Books_Reviewed</th>\n",
       "      <th>Left_Out</th>\n",
       "    </tr>\n",
       "  </thead>\n",
       "  <tbody>\n",
       "    <tr>\n",
       "      <td>0</td>\n",
       "      <td>4</td>\n",
       "      <td>{7, 264, 492, 54, 344, 1210, 575}</td>\n",
       "      <td>401</td>\n",
       "    </tr>\n",
       "    <tr>\n",
       "      <td>1</td>\n",
       "      <td>1</td>\n",
       "      <td>{1796, 6665, 3638, 1176}</td>\n",
       "      <td>54</td>\n",
       "    </tr>\n",
       "    <tr>\n",
       "      <td>2</td>\n",
       "      <td>9</td>\n",
       "      <td>{3, 264, 238, 52, 344, 56, 795}</td>\n",
       "      <td>1923</td>\n",
       "    </tr>\n",
       "    <tr>\n",
       "      <td>3</td>\n",
       "      <td>15</td>\n",
       "      <td>{3, 1381, 1993, 1645, 1042, 52, 310, 344, 795, 7260}</td>\n",
       "      <td>2661</td>\n",
       "    </tr>\n",
       "    <tr>\n",
       "      <td>4</td>\n",
       "      <td>18</td>\n",
       "      <td>{1153, 1923, 743, 7, 3883, 2923, 4979, 534, 344, 1176}</td>\n",
       "      <td>3254</td>\n",
       "    </tr>\n",
       "  </tbody>\n",
       "</table>\n",
       "</div>"
      ],
      "text/plain": [
       "   User                                          Books_Reviewed  Left_Out\n",
       "0     4                       {7, 264, 492, 54, 344, 1210, 575}       401\n",
       "1     1                                {1796, 6665, 3638, 1176}        54\n",
       "2     9                         {3, 264, 238, 52, 344, 56, 795}      1923\n",
       "3    15    {3, 1381, 1993, 1645, 1042, 52, 310, 344, 795, 7260}      2661\n",
       "4    18  {1153, 1923, 743, 7, 3883, 2923, 4979, 534, 344, 1176}      3254"
      ]
     },
     "execution_count": 50,
     "metadata": {},
     "output_type": "execute_result"
    }
   ],
   "source": [
    "books_reviewed_by_users_df.head(n=5)"
   ]
  },
  {
   "cell_type": "markdown",
   "metadata": {},
   "source": [
    "# Make Recommendations"
   ]
  },
  {
   "cell_type": "code",
   "execution_count": 51,
   "metadata": {
    "scrolled": true
   },
   "outputs": [
    {
     "name": "stdout",
     "output_type": "stream",
     "text": [
      "CPU times: user 1min 2s, sys: 581 ms, total: 1min 2s\n",
      "Wall time: 1min 2s\n"
     ]
    }
   ],
   "source": [
    "%%time\n",
    "recommended_books = book_recommender.recommend(books_reviewed_by_users_df.User.values,\n",
    "                                               books_reviewed_by_users_df.Books_Reviewed.values)"
   ]
  },
  {
   "cell_type": "code",
   "execution_count": 52,
   "metadata": {
    "scrolled": true
   },
   "outputs": [],
   "source": [
    "recommended_books = list(map(lambda x: list(map(int, x)), recommended_books))"
   ]
  },
  {
   "cell_type": "code",
   "execution_count": 53,
   "metadata": {},
   "outputs": [
    {
     "data": {
      "text/plain": [
       "0.5555555555555556"
      ]
     },
     "execution_count": 53,
     "metadata": {},
     "output_type": "execute_result"
    }
   ],
   "source": [
    "hrate = hit_rate(recommended_books, books_reviewed_by_users_df.Left_Out.values)\n",
    "hrate"
   ]
  },
  {
   "cell_type": "code",
   "execution_count": 54,
   "metadata": {},
   "outputs": [],
   "source": [
    "books_reviewed_by_users_df.loc[:, 'Recommended_Books'] = recommended_books"
   ]
  },
  {
   "cell_type": "code",
   "execution_count": 55,
   "metadata": {},
   "outputs": [],
   "source": [
    "def topn(user_id, n=10, df=books_reviewed_by_users_df):\n",
    "\n",
    "    book_list = list(map(int, df.loc[df.User == user_id, 'Recommended_Books'].values[0]))\n",
    "    books_with_rating = books_data.loc[books_data.book_id.isin(book_list), ['book_id', 'average_rating']]\n",
    "    return books_with_rating.nlargest(n, 'average_rating').book_id.tolist()"
   ]
  },
  {
   "cell_type": "code",
   "execution_count": 56,
   "metadata": {},
   "outputs": [
    {
     "data": {
      "text/plain": [
       "array([ 401,   54, 1923, 2661, 3254, 1360,    7, 1657,  344, 2047, 1856,\n",
       "        232,  773,  211, 9083, 1210, 1332, 3638,   56,  161, 1796,   54,\n",
       "       1714, 1106, 2860, 1394, 1100,  238, 5295, 6575, 1593, 1025, 1154,\n",
       "          7, 3013,   54,  344, 1809, 4631,   54, 1025, 2155, 2508, 1210,\n",
       "        238,  344,    7,  401,    7,  264,  238, 1381, 3126,  455,   52,\n",
       "       1149,  238, 7002, 1811, 2508, 1549,  264, 1657,  951,  155, 1332,\n",
       "       4431, 7379, 2508,   52,    7, 9170,  308,   54, 1746,  308,   56,\n",
       "       1923,  238, 6579, 1061, 2841,  155, 1532,  211,   56,   56, 2047,\n",
       "        703, 1923])"
      ]
     },
     "execution_count": 56,
     "metadata": {},
     "output_type": "execute_result"
    }
   ],
   "source": [
    "books_reviewed_by_users_df.Left_Out.values"
   ]
  },
  {
   "cell_type": "code",
   "execution_count": 57,
   "metadata": {
    "scrolled": false
   },
   "outputs": [],
   "source": [
    "top_list = [topn(user_id, 10) for user_id in books_reviewed_by_users_df.User]"
   ]
  },
  {
   "cell_type": "code",
   "execution_count": 58,
   "metadata": {
    "scrolled": true
   },
   "outputs": [
    {
     "data": {
      "text/plain": [
       "0.06666666666666667"
      ]
     },
     "execution_count": 58,
     "metadata": {},
     "output_type": "execute_result"
    }
   ],
   "source": [
    "hit_rate(top_list, books_reviewed_by_users_df.Left_Out.values)"
   ]
  },
  {
   "cell_type": "code",
   "execution_count": 59,
   "metadata": {},
   "outputs": [],
   "source": [
    "def top_recommendation_by_user(user_id):\n",
    "    \n",
    "    top_10 = topn(user_id)\n",
    "    top_10_md = books_data.loc[books_data.book_id.isin(top_10), ['book_id', 'title', 'authors', 'average_rating']]\n",
    "\n",
    "    return top_10_md"
   ]
  },
  {
   "cell_type": "code",
   "execution_count": 62,
   "metadata": {},
   "outputs": [
    {
     "data": {
      "text/plain": [
       "array([  4,   1,   9,  15,  18,  22,  32,  34,  40,  31,  55,  65,  70,\n",
       "        72,  73,  75,  76,  61,  54,  78,  89,  93,  26,  29, 103, 105,\n",
       "       108, 112, 113, 115, 116, 125, 126, 137, 135, 124, 142, 149, 156,\n",
       "         8, 130, 158, 167, 169, 177, 175, 178, 171, 185, 184, 183, 168,\n",
       "       106, 195, 143, 199, 179,  10, 203, 204, 207, 214, 206, 220, 212,\n",
       "       228, 229, 232, 233, 237, 239, 240, 245, 246, 242, 250, 248, 257,\n",
       "       247, 258, 162, 263, 264, 265, 274, 278, 283, 276, 286, 287])"
      ]
     },
     "execution_count": 62,
     "metadata": {},
     "output_type": "execute_result"
    }
   ],
   "source": [
    "books_reviewed_by_users_df.User.unique()"
   ]
  },
  {
   "cell_type": "code",
   "execution_count": 77,
   "metadata": {},
   "outputs": [],
   "source": [
    "sel_user = 75"
   ]
  },
  {
   "cell_type": "code",
   "execution_count": 78,
   "metadata": {},
   "outputs": [
    {
     "data": {
      "text/html": [
       "<div>\n",
       "<style scoped>\n",
       "    .dataframe tbody tr th:only-of-type {\n",
       "        vertical-align: middle;\n",
       "    }\n",
       "\n",
       "    .dataframe tbody tr th {\n",
       "        vertical-align: top;\n",
       "    }\n",
       "\n",
       "    .dataframe thead th {\n",
       "        text-align: right;\n",
       "    }\n",
       "</style>\n",
       "<table border=\"1\" class=\"dataframe\">\n",
       "  <thead>\n",
       "    <tr style=\"text-align: right;\">\n",
       "      <th></th>\n",
       "      <th>book_id</th>\n",
       "      <th>title</th>\n",
       "      <th>authors</th>\n",
       "      <th>average_rating</th>\n",
       "    </tr>\n",
       "  </thead>\n",
       "  <tbody>\n",
       "    <tr>\n",
       "      <td>1656</td>\n",
       "      <td>1657</td>\n",
       "      <td>Infinite Jest</td>\n",
       "      <td>David Foster Wallace</td>\n",
       "      <td>4.31</td>\n",
       "    </tr>\n",
       "    <tr>\n",
       "      <td>3125</td>\n",
       "      <td>3126</td>\n",
       "      <td>The Complete Short Stories</td>\n",
       "      <td>Ernest Hemingway</td>\n",
       "      <td>4.28</td>\n",
       "    </tr>\n",
       "    <tr>\n",
       "      <td>4797</td>\n",
       "      <td>4798</td>\n",
       "      <td>Genghis: Birth of an Empire (Conqueror, #1)</td>\n",
       "      <td>Conn Iggulden</td>\n",
       "      <td>4.34</td>\n",
       "    </tr>\n",
       "    <tr>\n",
       "      <td>5016</td>\n",
       "      <td>5017</td>\n",
       "      <td>Dreams of a Dark Warrior (Immortals After Dark #11)</td>\n",
       "      <td>Kresley Cole</td>\n",
       "      <td>4.39</td>\n",
       "    </tr>\n",
       "    <tr>\n",
       "      <td>5141</td>\n",
       "      <td>5142</td>\n",
       "      <td>Her Mother's Hope (Marta's Legacy, #1)</td>\n",
       "      <td>Francine Rivers</td>\n",
       "      <td>4.28</td>\n",
       "    </tr>\n",
       "    <tr>\n",
       "      <td>6209</td>\n",
       "      <td>6210</td>\n",
       "      <td>Ransom (Highlands' Lairds, #2)</td>\n",
       "      <td>Julie Garwood</td>\n",
       "      <td>4.33</td>\n",
       "    </tr>\n",
       "    <tr>\n",
       "      <td>8916</td>\n",
       "      <td>8917</td>\n",
       "      <td>Her Daughter's Dream (Marta's Legacy, #2)</td>\n",
       "      <td>Francine Rivers</td>\n",
       "      <td>4.34</td>\n",
       "    </tr>\n",
       "    <tr>\n",
       "      <td>9300</td>\n",
       "      <td>9301</td>\n",
       "      <td>Ever After (Lost Love, #2)</td>\n",
       "      <td>Karen Kingsbury</td>\n",
       "      <td>4.31</td>\n",
       "    </tr>\n",
       "    <tr>\n",
       "      <td>9413</td>\n",
       "      <td>9414</td>\n",
       "      <td>Deeper Than Midnight (Midnight Breed, #9)</td>\n",
       "      <td>Lara Adrian</td>\n",
       "      <td>4.29</td>\n",
       "    </tr>\n",
       "    <tr>\n",
       "      <td>9616</td>\n",
       "      <td>9617</td>\n",
       "      <td>Fame (Firstborn, #1)</td>\n",
       "      <td>Karen Kingsbury</td>\n",
       "      <td>4.34</td>\n",
       "    </tr>\n",
       "  </tbody>\n",
       "</table>\n",
       "</div>"
      ],
      "text/plain": [
       "      book_id                                                title  \\\n",
       "1656     1657                                        Infinite Jest   \n",
       "3125     3126                           The Complete Short Stories   \n",
       "4797     4798          Genghis: Birth of an Empire (Conqueror, #1)   \n",
       "5016     5017  Dreams of a Dark Warrior (Immortals After Dark #11)   \n",
       "5141     5142               Her Mother's Hope (Marta's Legacy, #1)   \n",
       "6209     6210                       Ransom (Highlands' Lairds, #2)   \n",
       "8916     8917            Her Daughter's Dream (Marta's Legacy, #2)   \n",
       "9300     9301                           Ever After (Lost Love, #2)   \n",
       "9413     9414            Deeper Than Midnight (Midnight Breed, #9)   \n",
       "9616     9617                                 Fame (Firstborn, #1)   \n",
       "\n",
       "                   authors  average_rating  \n",
       "1656  David Foster Wallace            4.31  \n",
       "3125      Ernest Hemingway            4.28  \n",
       "4797         Conn Iggulden            4.34  \n",
       "5016          Kresley Cole            4.39  \n",
       "5141       Francine Rivers            4.28  \n",
       "6209         Julie Garwood            4.33  \n",
       "8916       Francine Rivers            4.34  \n",
       "9300       Karen Kingsbury            4.31  \n",
       "9413           Lara Adrian            4.29  \n",
       "9616       Karen Kingsbury            4.34  "
      ]
     },
     "execution_count": 78,
     "metadata": {},
     "output_type": "execute_result"
    }
   ],
   "source": [
    "top_recommendation_by_user(sel_user)"
   ]
  },
  {
   "cell_type": "code",
   "execution_count": 79,
   "metadata": {},
   "outputs": [],
   "source": [
    "select_user_books = readers_data[(readers_data.user_id == sel_user) & (readers_data.book_id.isin(books_available)) & (readers_data.rating >= 3)].book_id.values"
   ]
  },
  {
   "cell_type": "code",
   "execution_count": 80,
   "metadata": {},
   "outputs": [
    {
     "data": {
      "text/html": [
       "<div>\n",
       "<style scoped>\n",
       "    .dataframe tbody tr th:only-of-type {\n",
       "        vertical-align: middle;\n",
       "    }\n",
       "\n",
       "    .dataframe tbody tr th {\n",
       "        vertical-align: top;\n",
       "    }\n",
       "\n",
       "    .dataframe thead th {\n",
       "        text-align: right;\n",
       "    }\n",
       "</style>\n",
       "<table border=\"1\" class=\"dataframe\">\n",
       "  <thead>\n",
       "    <tr style=\"text-align: right;\">\n",
       "      <th></th>\n",
       "      <th>book_id</th>\n",
       "      <th>title</th>\n",
       "      <th>authors</th>\n",
       "      <th>average_rating</th>\n",
       "    </tr>\n",
       "  </thead>\n",
       "  <tbody>\n",
       "    <tr>\n",
       "      <td>237</td>\n",
       "      <td>238</td>\n",
       "      <td>Running with Scissors</td>\n",
       "      <td>Augusten Burroughs</td>\n",
       "      <td>3.70</td>\n",
       "    </tr>\n",
       "    <tr>\n",
       "      <td>343</td>\n",
       "      <td>344</td>\n",
       "      <td>Naked</td>\n",
       "      <td>David Sedaris</td>\n",
       "      <td>4.08</td>\n",
       "    </tr>\n",
       "    <tr>\n",
       "      <td>742</td>\n",
       "      <td>743</td>\n",
       "      <td>Lamb: The Gospel According to Biff, Christ's Childhood Pal</td>\n",
       "      <td>Christopher Moore</td>\n",
       "      <td>4.26</td>\n",
       "    </tr>\n",
       "    <tr>\n",
       "      <td>1209</td>\n",
       "      <td>1210</td>\n",
       "      <td>Anne of Avonlea (Anne of Green Gables, #2)</td>\n",
       "      <td>L.M. Montgomery</td>\n",
       "      <td>4.21</td>\n",
       "    </tr>\n",
       "    <tr>\n",
       "      <td>1713</td>\n",
       "      <td>1714</td>\n",
       "      <td>The Kitchen God's Wife</td>\n",
       "      <td>Amy Tan</td>\n",
       "      <td>3.98</td>\n",
       "    </tr>\n",
       "    <tr>\n",
       "      <td>7378</td>\n",
       "      <td>7379</td>\n",
       "      <td>The Pleasure of My Company</td>\n",
       "      <td>Steve Martin</td>\n",
       "      <td>3.78</td>\n",
       "    </tr>\n",
       "  </tbody>\n",
       "</table>\n",
       "</div>"
      ],
      "text/plain": [
       "      book_id                                                       title  \\\n",
       "237       238                                       Running with Scissors   \n",
       "343       344                                                       Naked   \n",
       "742       743  Lamb: The Gospel According to Biff, Christ's Childhood Pal   \n",
       "1209     1210                  Anne of Avonlea (Anne of Green Gables, #2)   \n",
       "1713     1714                                      The Kitchen God's Wife   \n",
       "7378     7379                                  The Pleasure of My Company   \n",
       "\n",
       "                 authors  average_rating  \n",
       "237   Augusten Burroughs            3.70  \n",
       "343        David Sedaris            4.08  \n",
       "742    Christopher Moore            4.26  \n",
       "1209     L.M. Montgomery            4.21  \n",
       "1713             Amy Tan            3.98  \n",
       "7378        Steve Martin            3.78  "
      ]
     },
     "execution_count": 80,
     "metadata": {},
     "output_type": "execute_result"
    }
   ],
   "source": [
    "books_data.loc[books_data.book_id.isin(select_user_books), ['book_id', 'title', 'authors', 'average_rating']]"
   ]
  },
  {
   "cell_type": "code",
   "execution_count": null,
   "metadata": {},
   "outputs": [],
   "source": []
  }
 ],
 "metadata": {
  "kernelspec": {
   "display_name": "Python 3",
   "language": "python",
   "name": "python3"
  },
  "language_info": {
   "codemirror_mode": {
    "name": "ipython",
    "version": 3
   },
   "file_extension": ".py",
   "mimetype": "text/x-python",
   "name": "python",
   "nbconvert_exporter": "python",
   "pygments_lexer": "ipython3",
   "version": "3.7.7"
  }
 },
 "nbformat": 4,
 "nbformat_minor": 2
}
